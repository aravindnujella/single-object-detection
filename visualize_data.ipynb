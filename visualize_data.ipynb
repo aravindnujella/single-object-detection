{
 "cells": [
  {
   "cell_type": "code",
   "execution_count": 1,
   "metadata": {},
   "outputs": [],
   "source": [
    "import model_lib\n",
    "import numpy as np\n",
    "import warnings\n",
    "warnings.filterwarnings('ignore', '.*output shape of zoom.*')\n",
    "import pickle\n",
    "import importlib\n",
    "importlib.reload(model_lib)\n",
    "import os\n",
    "import time\n",
    "os.environ[\"CUDA_DEVICE_ORDER\"] = \"PCI_BUS_ID\"\n",
    "os.environ[\"CUDA_VISIBLE_DEVICES\"] = \"0\""
   ]
  },
  {
   "cell_type": "code",
   "execution_count": 2,
   "metadata": {},
   "outputs": [],
   "source": [
    "# config to train\n",
    "# TODO: check Config is correct\n",
    "class ProposalConfig():\n",
    "    NAME = \"InSegm\"\n",
    "    GPU_COUNT = 1\n",
    "    # online training\n",
    "    IMAGES_PER_GPU = 24\n",
    "    STEPS_PER_EPOCH = 100\n",
    "    NUM_WORKERS = 16\n",
    "    PIN_MEMORY = True\n",
    "    DATA_ORDER = \"cw_ins\"\n",
    "    VALIDATION_STEPS = 20\n",
    "    # including gt\n",
    "    NUM_CLASSES = 81\n",
    "    \n",
    "    # only flips\n",
    "    MEAN_PIXEL = np.array([0.485, 0.456, 0.406],dtype=np.float32).reshape(1,1,-1)\n",
    "    STD_PIXEL = np.array([0.229, 0.224, 0.225],dtype=np.float32).reshape(1,1,-1)\n",
    "    CLASS_NAMES = [\n",
    "        'BG', 'person', 'bicycle', 'car', 'motorcycle', 'airplane', 'bus',\n",
    "        'train', 'truck', 'boat', 'traffic light', 'fire hydrant', 'stop sign',\n",
    "        'parking meter', 'bench', 'bird', 'cat', 'dog', 'horse', 'sheep',\n",
    "        'cow', 'elephant', 'bear', 'zebra', 'giraffe', 'backpack', 'umbrella',\n",
    "        'handbag', 'tie', 'suitcase', 'frisbee', 'skis', 'snowboard',\n",
    "        'sports ball', 'kite', 'baseball bat', 'baseball glove', 'skateboard',\n",
    "        'surfboard', 'tennis racket', 'bottle', 'wine glass', 'cup', 'fork',\n",
    "        'knife', 'spoon', 'bowl', 'banana', 'apple', 'sandwich', 'orange',\n",
    "        'broccoli', 'carrot', 'hot dog', 'pizza', 'donut', 'cake', 'chair',\n",
    "        'couch', 'potted plant', 'bed', 'dining table', 'toilet', 'tv',\n",
    "        'laptop', 'mouse', 'remote', 'keyboard', 'cell phone', 'microwave',\n",
    "        'oven', 'toaster', 'sink', 'refrigerator', 'book', 'clock', 'vase',\n",
    "        'scissors', 'teddy bear', 'hair drier', 'toothbrush'\n",
    "    ]\n",
    "    WIDTH = 224\n",
    "    HEIGHT = 224\n",
    "    CROP_SIZE = 224\n",
    "    def __init__(self):\n",
    "        self.BATCH_SIZE = self.IMAGES_PER_GPU * self.GPU_COUNT\n",
    "        self.IMAGE_SHAPE = (self.WIDTH, self.HEIGHT,3)\n",
    "\n",
    "    def display(self):\n",
    "        \"\"\"Display Configuration values.\"\"\"\n",
    "        print(\"\\nConfigurations:\")\n",
    "        for a in dir(self):\n",
    "            if not a.startswith(\"__\") and not callable(getattr(self, a)):\n",
    "                print(\"{:30} {}\".format(a, getattr(self, a)))\n",
    "        print(\"\\n\")"
   ]
  },
  {
   "cell_type": "code",
   "execution_count": 3,
   "metadata": {},
   "outputs": [],
   "source": [
    "train_image_dir = \"/media/Data1/interns/aravind/train2017/\"\n",
    "train_image_dir = \"/media/Data1/interns/aravind/val2017/\"\n",
    "val_image_dir = \"/media/Data1/interns/aravind/val2017/\"\n",
    "config = ProposalConfig()\n",
    "model_dir = \"./models/\"\n",
    "train_pickle = \"/media/Data1/interns/aravind/re/data/train_cwid.pickle\"\n",
    "train_pickle = \"/media/Data1/interns/aravind/re/data/val_cwid.pickle\"\n",
    "val_pickle = \"/media/Data1/interns/aravind/re/data/val_cwid.pickle\""
   ]
  },
  {
   "cell_type": "code",
   "execution_count": 4,
   "metadata": {},
   "outputs": [],
   "source": [
    "with open(train_pickle,\"rb\") as train_ann:\n",
    "    train_cwid = pickle.load(train_ann)\n",
    "with open(val_pickle,\"rb\") as val_ann:\n",
    "    val_cwid = pickle.load(val_ann)"
   ]
  },
  {
   "cell_type": "code",
   "execution_count": 5,
   "metadata": {},
   "outputs": [],
   "source": [
    "train_loader = model_lib.get_loader(train_cwid,config,train_image_dir)\n",
    "val_loader = model_lib.get_loader(val_cwid,config,val_image_dir)\n"
   ]
  },
  {
   "cell_type": "code",
   "execution_count": null,
   "metadata": {
    "scrolled": false
   },
   "outputs": [
    {
     "name": "stdout",
     "output_type": "stream",
     "text": [
      "57\n",
      "chair\n",
      "\n",
      "23\n",
      "zebra\n",
      "\n",
      "28\n",
      "tie\n",
      "\n",
      "74\n",
      "book\n",
      "\n",
      "68\n",
      "cell phone\n",
      "\n",
      "28\n",
      "tie\n",
      "\n",
      "3\n",
      "car\n",
      "\n",
      "19\n",
      "sheep\n",
      "\n",
      "1\n",
      "person\n",
      "\n",
      "3\n",
      "car\n",
      "\n",
      "30\n",
      "frisbee\n",
      "\n",
      "35\n",
      "baseball bat\n",
      "\n",
      "64\n",
      "laptop\n",
      "\n",
      "40\n",
      "bottle\n",
      "\n",
      "14\n",
      "bench\n",
      "\n",
      "1\n",
      "person\n",
      "\n",
      "24\n",
      "giraffe\n"
     ]
    }
   ],
   "source": [
    "coco_dataset = model_lib.CocoDataset(train_cwid, config, train_image_dir)\n",
    "coco_dataset.visualize_data()\n"
   ]
  },
  {
   "cell_type": "code",
   "execution_count": null,
   "metadata": {},
   "outputs": [],
   "source": [
    "# data = np.array(coco_dataset.cw_num_instances)\n",
    "# print(data)\n",
    "# data = data**0.5\n",
    "# # data[0] = 0\n",
    "# print(data/sum(data)*100)\n",
    "# for i in range(81):\n",
    "#     print(config.CLASS_NAMES[i],\"Freq: %0.3f\"%float(data[i]/np.sum(data)))\n",
    "# import matplotlib.pyplot as plt\n",
    "# import numpy as np\n",
    "# %matplotlib inline\n",
    "# plt.hist(data, bins=np.arange(data.min(), data.max()+1))\n",
    "# plt.ylabel('Frequency');"
   ]
  },
  {
   "cell_type": "code",
   "execution_count": null,
   "metadata": {},
   "outputs": [],
   "source": [
    "train_data =enumerate(train_loader)\n",
    "counts = np.zeros(81)\n",
    "from PIL import Image\n",
    "for i in range(1000):\n",
    "#     start = time.time()\n",
    "    idx,data = next(train_data)\n",
    "#     for j in data[0].numpy():\n",
    "#         z = ((np.moveaxis(j,0,-1))*config.STD_PIXEL+config.MEAN_PIXEL)*255\n",
    "#         Image.fromarray(z.astype(np.uint8),\"RGB\").show()\n",
    "#     input()\n",
    "#     print(np.argmax(np.array(data[-1]),-1))\n",
    "#     counts[np.argmax(np.array(data[-1]),-1)] += 1\n",
    "#     print(list(zip(range(81),counts)))\n",
    "#     end = time.time()\n",
    "#     print(end-start)"
   ]
  },
  {
   "cell_type": "code",
   "execution_count": null,
   "metadata": {},
   "outputs": [],
   "source": []
  },
  {
   "cell_type": "code",
   "execution_count": null,
   "metadata": {},
   "outputs": [],
   "source": [
    "# import pandas as pd\n",
    "# a = [1, 1, 2, 1, 1, 4, 5, 6]\n",
    "# df = pd.DataFrame(a, columns=['a'])"
   ]
  },
  {
   "cell_type": "code",
   "execution_count": null,
   "metadata": {},
   "outputs": [],
   "source": [
    "# print(df)"
   ]
  },
  {
   "cell_type": "code",
   "execution_count": null,
   "metadata": {},
   "outputs": [],
   "source": [
    "# import altair as alt\n",
    "# alt.renderers.enable('notebook')\n",
    "# from vega_datasets import data\n",
    "\n",
    "# movies = data.movies.url\n",
    "# print(movies)\n",
    "# alt.Chart(movies).mark_bar().encode(\n",
    "#     alt.X(\"IMDB_Rating:Q\", bin=True),\n",
    "#     y='count()',\n",
    "# )"
   ]
  },
  {
   "cell_type": "code",
   "execution_count": null,
   "metadata": {},
   "outputs": [],
   "source": [
    "data = np.array(coco_dataset.cw_num_instances)\n",
    "print(data)"
   ]
  },
  {
   "cell_type": "code",
   "execution_count": null,
   "metadata": {},
   "outputs": [],
   "source": [
    "data"
   ]
  },
  {
   "cell_type": "code",
   "execution_count": null,
   "metadata": {},
   "outputs": [],
   "source": [
    "df = pd.DataFrame({\"id\": np.arange(81),\"freq\":data})"
   ]
  },
  {
   "cell_type": "code",
   "execution_count": null,
   "metadata": {},
   "outputs": [],
   "source": [
    "alt.Chart(df).mark_bar().encode(x=\"id\",y=\"freq\")"
   ]
  },
  {
   "cell_type": "code",
   "execution_count": null,
   "metadata": {},
   "outputs": [],
   "source": []
  }
 ],
 "metadata": {
  "kernelspec": {
   "display_name": "Python [conda env:re]",
   "language": "python",
   "name": "conda-env-re-py"
  },
  "language_info": {
   "codemirror_mode": {
    "name": "ipython",
    "version": 3
   },
   "file_extension": ".py",
   "mimetype": "text/x-python",
   "name": "python",
   "nbconvert_exporter": "python",
   "pygments_lexer": "ipython3",
   "version": "3.6.5"
  }
 },
 "nbformat": 4,
 "nbformat_minor": 2
}
