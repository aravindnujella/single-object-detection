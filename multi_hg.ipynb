{
 "cells": [
  {
   "cell_type": "code",
   "execution_count": 1,
   "metadata": {},
   "outputs": [],
   "source": [
    "import model_lib\n",
    "import numpy as np\n",
    "import warnings\n",
    "\n",
    "warnings.filterwarnings('ignore', '.*output shape of zoom.*')\n",
    "import pickle\n",
    "import importlib\n",
    "importlib.reload(model_lib)\n",
    "\n",
    "import os\n",
    "import time\n",
    "os.environ[\"CUDA_DEVICE_ORDER\"] = \"PCI_BUS_ID\"\n",
    "os.environ[\"CUDA_VISIBLE_DEVICES\"] = \"1\"\n"
   ]
  },
  {
   "cell_type": "code",
   "execution_count": 2,
   "metadata": {},
   "outputs": [],
   "source": [
    "# config to train\n",
    "# TODO: check Config is correct\n",
    "class ProposalConfig():\n",
    "    NAME = \"InSegm\"\n",
    "    GPU_COUNT = 1\n",
    "    # online training\n",
    "    IMAGES_PER_GPU = 24\n",
    "    STEPS_PER_EPOCH = 100\n",
    "    NUM_WORKERS = 8\n",
    "    PIN_MEMORY = True\n",
    "    DATA_ORDER = \"cw_ins\"\n",
    "    VALIDATION_STEPS = 20\n",
    "    # including gt\n",
    "    NUM_CLASSES = 81\n",
    "    \n",
    "    # only flips\n",
    "    MEAN_PIXEL = np.array([0.485, 0.456, 0.406],dtype=np.float32).reshape(1,1,-1)\n",
    "    STD_PIXEL = np.array([0.229, 0.224, 0.225],dtype=np.float32).reshape(1,1,-1)\n",
    "    CLASS_NAMES = [\n",
    "        'BG', 'person', 'bicycle', 'car', 'motorcycle', 'airplane', 'bus',\n",
    "        'train', 'truck', 'boat', 'traffic light', 'fire hydrant', 'stop sign',\n",
    "        'parking meter', 'bench', 'bird', 'cat', 'dog', 'horse', 'sheep',\n",
    "        'cow', 'elephant', 'bear', 'zebra', 'giraffe', 'backpack', 'umbrella',\n",
    "        'handbag', 'tie', 'suitcase', 'frisbee', 'skis', 'snowboard',\n",
    "        'sports ball', 'kite', 'baseball bat', 'baseball glove', 'skateboard',\n",
    "        'surfboard', 'tennis racket', 'bottle', 'wine glass', 'cup', 'fork',\n",
    "        'knife', 'spoon', 'bowl', 'banana', 'apple', 'sandwich', 'orange',\n",
    "        'broccoli', 'carrot', 'hot dog', 'pizza', 'donut', 'cake', 'chair',\n",
    "        'couch', 'potted plant', 'bed', 'dining table', 'toilet', 'tv',\n",
    "        'laptop', 'mouse', 'remote', 'keyboard', 'cell phone', 'microwave',\n",
    "        'oven', 'toaster', 'sink', 'refrigerator', 'book', 'clock', 'vase',\n",
    "        'scissors', 'teddy bear', 'hair drier', 'toothbrush'\n",
    "    ]\n",
    "    WIDTH = 224\n",
    "    HEIGHT = 224\n",
    "    CROP_SIZE = 224\n",
    "    def __init__(self):\n",
    "        self.BATCH_SIZE = self.IMAGES_PER_GPU * self.GPU_COUNT\n",
    "        self.IMAGE_SHAPE = (self.WIDTH, self.HEIGHT,3)\n",
    "\n",
    "    def display(self):\n",
    "        \"\"\"Display Configuration values.\"\"\"\n",
    "        print(\"\\nConfigurations:\")\n",
    "        for a in dir(self):\n",
    "            if not a.startswith(\"__\") and not callable(getattr(self, a)):\n",
    "                print(\"{:30} {}\".format(a, getattr(self, a)))\n",
    "        print(\"\\n\")"
   ]
  },
  {
   "cell_type": "code",
   "execution_count": 3,
   "metadata": {},
   "outputs": [],
   "source": [
    "train_image_dir = \"/media/Data1/interns/aravind/train2017/\"\n",
    "# train_image_dir = \"/media/Data1/interns/aravind/val2017/\"\n",
    "val_image_dir = \"/media/Data1/interns/aravind/val2017/\"\n",
    "config = ProposalConfig()\n",
    "model_dir = \"./models/\"\n",
    "train_pickle = \"/media/Data1/interns/aravind/re/data/train_cwid.pickle\"\n",
    "# train_pickle = \"/media/Data1/interns/aravind/re/data/val_cwid.pickle\"\n",
    "val_pickle = \"/media/Data1/interns/aravind/re/data/val_cwid.pickle\""
   ]
  },
  {
   "cell_type": "code",
   "execution_count": 4,
   "metadata": {},
   "outputs": [],
   "source": [
    "with open(train_pickle,\"rb\") as train_ann:\n",
    "    train_cwid = pickle.load(train_ann)\n",
    "with open(val_pickle,\"rb\") as val_ann:\n",
    "    val_cwid = pickle.load(val_ann)"
   ]
  },
  {
   "cell_type": "code",
   "execution_count": 5,
   "metadata": {},
   "outputs": [],
   "source": [
    "train_loader = model_lib.get_loader(train_cwid,config,train_image_dir)\n",
    "val_loader = model_lib.get_loader(val_cwid,config,val_image_dir)"
   ]
  },
  {
   "cell_type": "code",
   "execution_count": 6,
   "metadata": {},
   "outputs": [],
   "source": [
    "import torch.optim as optim\n",
    "import torch\n",
    "import torch.nn.functional as F\n",
    "net = model_lib.MultiHGModel()"
   ]
  },
  {
   "cell_type": "code",
   "execution_count": 7,
   "metadata": {},
   "outputs": [],
   "source": [
    "# net.vgg0.load_state_dict(torch.load(\"./models/split_vgg16_features_4.pt\"))\n",
    "# net.vgg1.load_state_dict(torch.load(\"./models/split_vgg16_features_1.pt\"))\n",
    "pretrained_dict = torch.load(model_dir+\"single_05.pt\")\n",
    "net_dict = net.state_dict()\n",
    "pretrained_dict = {k: v for k, v in pretrained_dict.items() if k in net_dict}\n",
    "\n",
    "net_dict.update(pretrained_dict) \n",
    "net.load_state_dict(net_dict)"
   ]
  },
  {
   "cell_type": "code",
   "execution_count": 8,
   "metadata": {},
   "outputs": [],
   "source": [
    "def set_trainable(module,state):\n",
    "    for param in module.parameters():\n",
    "        param.requires_grad = state\n",
    "\n",
    "set_trainable(net,False)\n",
    "set_trainable(net.mp0,True)\n",
    "# set_trainable(net.mp1,True)\n",
    "set_trainable(net.class_predictor,True)\n",
    "for name,child in net.vgg0.named_children():\n",
    "    if name[:-1] == \"layer\":\n",
    "        [set_trainable(s.ignore_filters,True) for s in child[::2]]\n",
    "        [set_trainable(s.copy_filters,True) for s in child[::2]]\n",
    "# for name,child in net.vgg1.named_children():\n",
    "#     if name[:-1] == \"layer\":\n",
    "#         [set_trainable(s.ignore_filters,True) for s in child[::2]]\n",
    "#         [set_trainable(s.copy_filters,True) for s in child[::2]]\n"
   ]
  },
  {
   "cell_type": "code",
   "execution_count": 9,
   "metadata": {},
   "outputs": [
    {
     "name": "stdout",
     "output_type": "stream",
     "text": [
      "50704468 50704468\n",
      "[{'params': <generator object Module.parameters at 0x7fb594473888>, 'lr': 1e-05, 'momentum': 0.9}, {'params': <generator object Module.parameters at 0x7fb596054360>, 'lr': 1e-05, 'momentum': 0.9}, {'params': <generator object Module.parameters at 0x7fb595fe6410>, 'lr': 1e-05, 'momentum': 0.9}, {'params': <generator object Module.parameters at 0x7fb595fe6360>, 'lr': 1e-05, 'momentum': 0.9}, {'params': <generator object Module.parameters at 0x7fb595fe63b8>, 'lr': 1e-05, 'momentum': 0.9}, {'params': <generator object Module.parameters at 0x7fb595fe6518>, 'lr': 1e-05, 'momentum': 0.9}, {'params': <generator object Module.parameters at 0x7fb595fe64c0>, 'lr': 1e-05, 'momentum': 0.9}, {'params': <generator object Module.parameters at 0x7fb595fe6620>, 'lr': 1e-05, 'momentum': 0.9}, {'params': <generator object Module.parameters at 0x7fb595fe6678>, 'lr': 1e-05, 'momentum': 0.9}, {'params': <generator object Module.parameters at 0x7fb595fe66d0>, 'lr': 1e-05, 'momentum': 0.9}, {'params': <generator object Module.parameters at 0x7fb595fe6728>, 'lr': 1e-05, 'momentum': 0.9}, {'params': <generator object Module.parameters at 0x7fb595fe6780>, 'lr': 1e-05, 'momentum': 0.9}, {'params': <generator object Module.parameters at 0x7fb595fe67d8>, 'lr': 1e-05, 'momentum': 0.9}, {'params': <generator object Module.parameters at 0x7fb595fe6830>, 'lr': 1e-05, 'momentum': 0.9}, {'params': <generator object Module.parameters at 0x7fb595fe6888>, 'lr': 1e-05, 'momentum': 0.9}, {'params': <generator object Module.parameters at 0x7fb595fe68e0>, 'lr': 1e-05, 'momentum': 0.9}, {'params': <generator object Module.parameters at 0x7fb595fe6938>, 'lr': 1e-05, 'momentum': 0.9}, {'params': <generator object Module.parameters at 0x7fb595fe6990>, 'lr': 1e-05, 'momentum': 0.9}, {'params': <generator object Module.parameters at 0x7fb595fe69e8>, 'lr': 1e-05, 'momentum': 0.9}, {'params': <generator object Module.parameters at 0x7fb595fe6a40>, 'lr': 1e-05, 'momentum': 0.9}, {'params': <generator object Module.parameters at 0x7fb595fe6a98>, 'lr': 1e-05, 'momentum': 0.9}, {'params': <generator object Module.parameters at 0x7fb595fe6af0>, 'lr': 1e-05, 'momentum': 0.9}, {'params': <generator object Module.parameters at 0x7fb595fe6b48>, 'lr': 1e-05, 'momentum': 0.9}, {'params': <generator object Module.parameters at 0x7fb595fe6ba0>, 'lr': 1e-05, 'momentum': 0.9}, {'params': <generator object Module.parameters at 0x7fb595fe6bf8>, 'lr': 1e-05, 'momentum': 0.9}, {'params': <generator object Module.parameters at 0x7fb595fe6c50>, 'lr': 1e-05, 'momentum': 0.9}, {'params': <generator object Module.parameters at 0x7fb595fe6ca8>, 'lr': 1e-05, 'momentum': 0.9}, {'params': <generator object Module.parameters at 0x7fb595fe6d00>, 'lr': 1e-05, 'momentum': 0.9}]\n"
     ]
    }
   ],
   "source": [
    "# optimizer = optim.Adam(filter(lambda p: p.requires_grad, net.parameters()),lr = 0.001)\n",
    "# optimizer = optim.SGD(filter(lambda p: p.requires_grad, net.parameters()), lr=0.01, momentum=0.9)\n",
    "param_lr = []\n",
    "param_lr.append({'params': net.mp0.parameters(),'lr':1e-5,'momentum':0.9})\n",
    "# param_lr.append({'params': net.mp1.parameters(),'lr':1e-5,'momentum':0.9})\n",
    "param_lr.append({'params': net.class_predictor.parameters(),'lr':1e-5,'momentum':0.9})\n",
    "\n",
    "for name,child in net.vgg0.named_children():\n",
    "    if name[:-1] == \"layer\":\n",
    "        for s in child[::2]:\n",
    "            lr = 0\n",
    "            if int(name[-1]) > 0:\n",
    "                lr = 1e-5\n",
    "            else:\n",
    "                lr = 0\n",
    "            param_lr.append({'params':s.ignore_filters.parameters(),'lr':lr,'momentum':0.9})\n",
    "            param_lr.append({'params':s.copy_filters.parameters(),'lr':1e-5,'momentum':0.9})\n",
    "# for name,child in net.vgg1.named_children():\n",
    "#     if name[:-1] == \"layer\":\n",
    "#         for s in child[::2]:\n",
    "#             lr = 0\n",
    "#             if int(name[-1]) > 0:\n",
    "#                 lr = 0\n",
    "#             else:\n",
    "#                 lr = 0\n",
    "#             param_lr.append({'params':s.ignore_filters.parameters(),'lr':lr,'momentum':0.9})\n",
    "#             param_lr.append({'params':s.copy_filters.parameters(),'lr':0,'momentum':0.9})\n",
    "\n",
    "net_size = sum([i.numel() for i in net.parameters()])\n",
    "trainable_params = filter(lambda p: p.requires_grad, net.parameters())\n",
    "trainable_size = sum([i.numel() for i in trainable_params])\n",
    "print(net_size,trainable_size)\n",
    "print(param_lr)\n",
    "optimizer = optim.SGD(param_lr)\n",
    "# scheduler = optim.lr_scheduler.ReduceLROnPlateau(optimizer, mode='min', factor=1, patience=10, verbose=True, threshold=0.0001, threshold_mode='rel', cooldown=100, min_lr=1e-2, eps=1e-08)"
   ]
  },
  {
   "cell_type": "code",
   "execution_count": 10,
   "metadata": {},
   "outputs": [],
   "source": [
    "net = net.cuda()"
   ]
  },
  {
   "cell_type": "code",
   "execution_count": null,
   "metadata": {},
   "outputs": [
    {
     "name": "stdout",
     "output_type": "stream",
     "text": [
      "batch:  59 epoch:  0 loss: 3.22516\n",
      "class_loss: 1.00095 \t mask_loss: 2.22421\n",
      "class_acc: 0.71944 \t mask_acc: 0.58443\n",
      "batch:  119 epoch:  0 loss: 3.20142\n",
      "class_loss: 0.91129 \t mask_loss: 2.29013\n",
      "class_acc: 0.72847 \t mask_acc: 0.57745\n",
      "batch:  179 epoch:  0 loss: 3.19255\n",
      "class_loss: 0.97492 \t mask_loss: 2.21764\n",
      "class_acc: 0.70556 \t mask_acc: 0.58151\n",
      "batch:  239 epoch:  0 loss: 3.23113\n",
      "class_loss: 0.97628 \t mask_loss: 2.25485\n",
      "class_acc: 0.70347 \t mask_acc: 0.58533\n",
      "batch:  299 epoch:  0 loss: 3.13623\n",
      "class_loss: 0.94629 \t mask_loss: 2.18994\n",
      "class_acc: 0.71389 \t mask_acc: 0.57660\n",
      "batch:  359 epoch:  0 loss: 3.09335\n",
      "class_loss: 0.94358 \t mask_loss: 2.14977\n",
      "class_acc: 0.71528 \t mask_acc: 0.58221\n",
      "batch:  419 epoch:  0 loss: 3.01803\n",
      "class_loss: 0.89396 \t mask_loss: 2.12407\n",
      "class_acc: 0.72083 \t mask_acc: 0.58429\n",
      "batch:  479 epoch:  0 loss: 3.30130\n",
      "class_loss: 0.93248 \t mask_loss: 2.36882\n",
      "class_acc: 0.71458 \t mask_acc: 0.57117\n",
      "batch:  539 epoch:  0 loss: 3.14405\n",
      "class_loss: 0.95009 \t mask_loss: 2.19396\n",
      "class_acc: 0.71944 \t mask_acc: 0.58506\n"
     ]
    }
   ],
   "source": [
    "# torch.set_printoptions(threshold=10**6)\n",
    "iters_per_checkpoint = 60\n",
    "for epoch in range(10000):  # loop over the dataset multiple times\n",
    "    running_loss = 0.0\n",
    "    loss1,loss2 = 0.0,0.0\n",
    "    acc1,acc2 = 0.0,0.0\n",
    "    for i,data in enumerate(train_loader,0):\n",
    "        batch_images,batch_impulses,batch_gt_responses,batch_bboxes,batch_one_hot = data\n",
    "        batch_images,batch_impulses,batch_gt_responses,batch_bboxes,batch_one_hot = batch_images.cuda(),batch_impulses.cuda(),batch_gt_responses.cuda(),batch_bboxes.cuda(),batch_one_hot.cuda()\n",
    "        # zero the parameter gradients\n",
    "        optimizer.zero_grad()\n",
    "        # forward + backward + optimize\n",
    "        pred_class,pred_masks = net([batch_images,batch_impulses])\n",
    "        # we are giving no weighting for classes...\n",
    "        class_loss,mask_loss = model_lib.multi_mask_loss_criterion(pred_class,batch_one_hot,pred_masks,batch_gt_responses,batch_bboxes)\n",
    "        class_acc,mask_acc = model_lib.accuracy(pred_class,batch_one_hot,pred_masks[1],batch_gt_responses)\n",
    "        loss = class_loss+mask_loss\n",
    "        loss.backward()\n",
    "        optimizer.step()\n",
    "        running_loss += loss.item(); loss1 += class_loss.item(); loss2 += mask_loss.item()\n",
    "        acc1 += class_acc.item(); acc2 += mask_acc.item()\n",
    "        if i % iters_per_checkpoint == iters_per_checkpoint-1:\n",
    "#             scheduler.step((loss1+loss2)/iters_per_checkpoint)\n",
    "            print(\"batch: \",i,\"epoch: \",epoch, \"loss: %0.5f\" % (running_loss/iters_per_checkpoint))\n",
    "            print(\"class_loss: %0.5f \\t mask_loss: %0.5f\"%(loss1/iters_per_checkpoint,loss2/iters_per_checkpoint))\n",
    "            print(\"class_acc: %0.5f \\t mask_acc: %0.5f\"%(acc1/iters_per_checkpoint,acc2/iters_per_checkpoint))\n",
    "#             torch.save(net.state_dict(),model_dir+(\"model_mask_vgg_%d_%d.pt\")%(2,2))\n",
    "            torch.save(net.state_dict(),model_dir+(\"single_06.pt\"))\n",
    "            running_loss = 0.0; loss1 = 0.0; loss2 = 0.0\n",
    "            acc1 = 0.0; acc2 = 0.0\n",
    "    # print(\"batch: %d time:%0.3f sec\" %(i, end-start)); print(loss.item())\n",
    "print('Finished Training')"
   ]
  },
  {
   "cell_type": "code",
   "execution_count": null,
   "metadata": {},
   "outputs": [],
   "source": []
  },
  {
   "cell_type": "markdown",
   "metadata": {},
   "source": []
  }
 ],
 "metadata": {
  "kernelspec": {
   "display_name": "Python [conda env:re]",
   "language": "python",
   "name": "conda-env-re-py"
  },
  "language_info": {
   "codemirror_mode": {
    "name": "ipython",
    "version": 3
   },
   "file_extension": ".py",
   "mimetype": "text/x-python",
   "name": "python",
   "nbconvert_exporter": "python",
   "pygments_lexer": "ipython3",
   "version": "3.6.5"
  }
 },
 "nbformat": 4,
 "nbformat_minor": 2
}
