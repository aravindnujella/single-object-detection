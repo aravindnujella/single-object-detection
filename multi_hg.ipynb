{
 "cells": [
  {
   "cell_type": "code",
   "execution_count": 1,
   "metadata": {},
   "outputs": [],
   "source": [
    "import model_lib\n",
    "import numpy as np\n",
    "import warnings\n",
    "\n",
    "warnings.filterwarnings('ignore', '.*output shape of zoom.*')\n",
    "import pickle\n",
    "import importlib\n",
    "importlib.reload(model_lib)\n",
    "\n",
    "import os\n",
    "import time\n",
    "os.environ[\"CUDA_DEVICE_ORDER\"] = \"PCI_BUS_ID\"\n",
    "os.environ[\"CUDA_VISIBLE_DEVICES\"] = \"0\"\n"
   ]
  },
  {
   "cell_type": "code",
   "execution_count": 2,
   "metadata": {},
   "outputs": [],
   "source": [
    "# config to train\n",
    "# TODO: check Config is correct\n",
    "class ProposalConfig():\n",
    "    NAME = \"InSegm\"\n",
    "    GPU_COUNT = 1\n",
    "    # online training\n",
    "    IMAGES_PER_GPU = 16\n",
    "    STEPS_PER_EPOCH = 100\n",
    "    NUM_WORKERS = 8\n",
    "    PIN_MEMORY = True\n",
    "    DATA_ORDER = \"cw_ins\"\n",
    "    VALIDATION_STEPS = 20\n",
    "    # including gt\n",
    "    NUM_CLASSES = 81\n",
    "    \n",
    "    # only flips\n",
    "    MEAN_PIXEL = np.array([0.485, 0.456, 0.406],dtype=np.float32).reshape(1,1,-1)\n",
    "    STD_PIXEL = np.array([0.229, 0.224, 0.225],dtype=np.float32).reshape(1,1,-1)\n",
    "    CLASS_NAMES = [\n",
    "        'BG', 'person', 'bicycle', 'car', 'motorcycle', 'airplane', 'bus',\n",
    "        'train', 'truck', 'boat', 'traffic light', 'fire hydrant', 'stop sign',\n",
    "        'parking meter', 'bench', 'bird', 'cat', 'dog', 'horse', 'sheep',\n",
    "        'cow', 'elephant', 'bear', 'zebra', 'giraffe', 'backpack', 'umbrella',\n",
    "        'handbag', 'tie', 'suitcase', 'frisbee', 'skis', 'snowboard',\n",
    "        'sports ball', 'kite', 'baseball bat', 'baseball glove', 'skateboard',\n",
    "        'surfboard', 'tennis racket', 'bottle', 'wine glass', 'cup', 'fork',\n",
    "        'knife', 'spoon', 'bowl', 'banana', 'apple', 'sandwich', 'orange',\n",
    "        'broccoli', 'carrot', 'hot dog', 'pizza', 'donut', 'cake', 'chair',\n",
    "        'couch', 'potted plant', 'bed', 'dining table', 'toilet', 'tv',\n",
    "        'laptop', 'mouse', 'remote', 'keyboard', 'cell phone', 'microwave',\n",
    "        'oven', 'toaster', 'sink', 'refrigerator', 'book', 'clock', 'vase',\n",
    "        'scissors', 'teddy bear', 'hair drier', 'toothbrush'\n",
    "    ]\n",
    "    WIDTH = 224\n",
    "    HEIGHT = 224\n",
    "    CROP_SIZE = 224\n",
    "    def __init__(self):\n",
    "        self.BATCH_SIZE = self.IMAGES_PER_GPU * self.GPU_COUNT\n",
    "        self.IMAGE_SHAPE = (self.WIDTH, self.HEIGHT,3)\n",
    "\n",
    "    def display(self):\n",
    "        \"\"\"Display Configuration values.\"\"\"\n",
    "        print(\"\\nConfigurations:\")\n",
    "        for a in dir(self):\n",
    "            if not a.startswith(\"__\") and not callable(getattr(self, a)):\n",
    "                print(\"{:30} {}\".format(a, getattr(self, a)))\n",
    "        print(\"\\n\")"
   ]
  },
  {
   "cell_type": "code",
   "execution_count": 3,
   "metadata": {},
   "outputs": [],
   "source": [
    "train_image_dir = \"/media/Data1/interns/aravind/train2017/\"\n",
    "# train_image_dir = \"/media/Data1/interns/aravind/val2017/\"\n",
    "val_image_dir = \"/media/Data1/interns/aravind/val2017/\"\n",
    "config = ProposalConfig()\n",
    "model_dir = \"./models/\"\n",
    "train_pickle = \"/media/Data1/interns/aravind/re/data/train_cwid.pickle\"\n",
    "# train_pickle = \"/media/Data1/interns/aravind/re/data/val_cwid.pickle\"\n",
    "val_pickle = \"/media/Data1/interns/aravind/re/data/val_cwid.pickle\""
   ]
  },
  {
   "cell_type": "code",
   "execution_count": 4,
   "metadata": {},
   "outputs": [],
   "source": [
    "with open(train_pickle,\"rb\") as train_ann:\n",
    "    train_cwid = pickle.load(train_ann)\n",
    "with open(val_pickle,\"rb\") as val_ann:\n",
    "    val_cwid = pickle.load(val_ann)"
   ]
  },
  {
   "cell_type": "code",
   "execution_count": 5,
   "metadata": {},
   "outputs": [],
   "source": [
    "train_loader = model_lib.get_loader(train_cwid,config,train_image_dir)\n",
    "val_loader = model_lib.get_loader(val_cwid,config,val_image_dir)"
   ]
  },
  {
   "cell_type": "code",
   "execution_count": 6,
   "metadata": {},
   "outputs": [],
   "source": [
    "import torch.optim as optim\n",
    "import torch\n",
    "import torch.nn.functional as F\n",
    "net = model_lib.MultiHGModel()"
   ]
  },
  {
   "cell_type": "code",
   "execution_count": 7,
   "metadata": {},
   "outputs": [],
   "source": [
    "net.vgg0.load_state_dict(torch.load(\"./models/split_vgg16_features_4.pt\"))\n",
    "net.vgg1.load_state_dict(torch.load(\"./models/split_vgg16_features_1.pt\"))\n",
    "# pretrained_dict = torch.load(model_dir+\"stage_00.pt\")\n",
    "# net_dict = net.state_dict()\n",
    "# pretrained_dict = {k: v for k, v in pretrained_dict.items() if k in net_dict}\n",
    "\n",
    "# net_dict.update(pretrained_dict) \n",
    "# net.load_state_dict(net_dict)"
   ]
  },
  {
   "cell_type": "code",
   "execution_count": 8,
   "metadata": {},
   "outputs": [],
   "source": [
    "def set_trainable(module,state):\n",
    "    for param in module.parameters():\n",
    "        param.requires_grad = state\n",
    "\n",
    "set_trainable(net,False)\n",
    "set_trainable(net.mp0,True)\n",
    "set_trainable(net.mp1,True)\n",
    "set_trainable(net.class_predictor,True)\n",
    "for name,child in net.vgg0.named_children():\n",
    "    if name[:-1] == \"layer\":\n",
    "        [set_trainable(s.ignore_filters,True) for s in child[::2]]\n",
    "        [set_trainable(s.copy_filters,True) for s in child[::2]]\n",
    "for name,child in net.vgg1.named_children():\n",
    "    if name[:-1] == \"layer\":\n",
    "        [set_trainable(s.ignore_filters,True) for s in child[::2]]\n",
    "        [set_trainable(s.copy_filters,True) for s in child[::2]]\n"
   ]
  },
  {
   "cell_type": "code",
   "execution_count": 9,
   "metadata": {},
   "outputs": [
    {
     "name": "stdout",
     "output_type": "stream",
     "text": [
      "63674071 63674071\n"
     ]
    }
   ],
   "source": [
    "# optimizer = optim.Adam(filter(lambda p: p.requires_grad, net.parameters()),lr = 0.001)\n",
    "# optimizer = optim.SGD(filter(lambda p: p.requires_grad, net.parameters()), lr=0.01, momentum=0.9)\n",
    "param_lr = []\n",
    "param_lr.append({'params': net.mp0.parameters(),'lr':1e-2,'momentum':0.9})\n",
    "param_lr.append({'params': net.mp1.parameters(),'lr':1e-2,'momentum':0.9})\n",
    "param_lr.append({'params': net.class_predictor.parameters(),'lr':1e-2,'momentum':0.9})\n",
    "\n",
    "for name,child in net.vgg0.named_children():\n",
    "    if name[:-1] == \"layer\":\n",
    "        for s in child[::2]:\n",
    "            param_lr.append({'params':s.ignore_filters.parameters(),'lr':1e-5,'momentum':0.9})\n",
    "            param_lr.append({'params':s.copy_filters.parameters(),'lr':0.01,'momentum':0.9})\n",
    "for name,child in net.vgg1.named_children():\n",
    "    if name[:-1] == \"layer\":\n",
    "        for s in child[::2]:\n",
    "            param_lr.append({'params':s.ignore_filters.parameters(),'lr':1e-5,'momentum':0.9})\n",
    "            param_lr.append({'params':s.copy_filters.parameters(),'lr':0.01,'momentum':0.9})\n",
    "\n",
    "net_size = sum([i.numel() for i in net.parameters()])\n",
    "trainable_params = filter(lambda p: p.requires_grad, net.parameters())\n",
    "trainable_size = sum([i.numel() for i in trainable_params])\n",
    "print(net_size,trainable_size)\n",
    "\n",
    "optimizer = optim.SGD(param_lr)"
   ]
  },
  {
   "cell_type": "code",
   "execution_count": 10,
   "metadata": {},
   "outputs": [],
   "source": [
    "net = net.cuda()"
   ]
  },
  {
   "cell_type": "code",
   "execution_count": null,
   "metadata": {
    "scrolled": false
   },
   "outputs": [
    {
     "name": "stdout",
     "output_type": "stream",
     "text": [
      "batch:  0 epoch:  0 loss: 0.50185\n",
      "class_loss: 0.14323 \t mask_loss: 0.35863\n",
      "class_acc: 0.00000 \t mask_acc: 0.02002\n",
      "batch:  5 epoch:  0 loss: 2.42906\n",
      "class_loss: 0.68841 \t mask_loss: 1.74065\n",
      "class_acc: 0.03750 \t mask_acc: 0.08716\n",
      "batch:  10 epoch:  0 loss: 2.47044\n",
      "class_loss: 0.68348 \t mask_loss: 1.78697\n",
      "class_acc: 0.10000 \t mask_acc: 0.10683\n",
      "batch:  15 epoch:  0 loss: 2.29442\n",
      "class_loss: 0.65508 \t mask_loss: 1.63934\n",
      "class_acc: 0.07500 \t mask_acc: 0.13058\n",
      "batch:  20 epoch:  0 loss: 2.38071\n",
      "class_loss: 0.65281 \t mask_loss: 1.72790\n",
      "class_acc: 0.01250 \t mask_acc: 0.15306\n",
      "batch:  25 epoch:  0 loss: 2.39577\n",
      "class_loss: 0.66196 \t mask_loss: 1.73381\n",
      "class_acc: 0.10000 \t mask_acc: 0.16306\n",
      "batch:  30 epoch:  0 loss: 2.39749\n",
      "class_loss: 0.64720 \t mask_loss: 1.75029\n",
      "class_acc: 0.08750 \t mask_acc: 0.16632\n",
      "batch:  35 epoch:  0 loss: 2.36213\n",
      "class_loss: 0.64330 \t mask_loss: 1.71883\n",
      "class_acc: 0.07500 \t mask_acc: 0.17473\n",
      "batch:  40 epoch:  0 loss: 2.33021\n",
      "class_loss: 0.61363 \t mask_loss: 1.71658\n",
      "class_acc: 0.11250 \t mask_acc: 0.15457\n",
      "batch:  45 epoch:  0 loss: 2.37018\n",
      "class_loss: 0.61966 \t mask_loss: 1.75051\n",
      "class_acc: 0.07500 \t mask_acc: 0.18978\n",
      "batch:  50 epoch:  0 loss: 2.29206\n",
      "class_loss: 0.60087 \t mask_loss: 1.69119\n",
      "class_acc: 0.11250 \t mask_acc: 0.16281\n",
      "batch:  55 epoch:  0 loss: 2.36996\n",
      "class_loss: 0.59382 \t mask_loss: 1.77613\n",
      "class_acc: 0.03750 \t mask_acc: 0.16762\n",
      "batch:  60 epoch:  0 loss: 2.12912\n",
      "class_loss: 0.52388 \t mask_loss: 1.60524\n",
      "class_acc: 0.10000 \t mask_acc: 0.17009\n",
      "batch:  65 epoch:  0 loss: 2.28258\n",
      "class_loss: 0.55026 \t mask_loss: 1.73231\n",
      "class_acc: 0.10000 \t mask_acc: 0.17320\n",
      "batch:  70 epoch:  0 loss: 2.25607\n",
      "class_loss: 0.54278 \t mask_loss: 1.71329\n",
      "class_acc: 0.15000 \t mask_acc: 0.21697\n",
      "batch:  75 epoch:  0 loss: 2.25249\n",
      "class_loss: 0.53578 \t mask_loss: 1.71671\n",
      "class_acc: 0.12500 \t mask_acc: 0.20752\n",
      "batch:  80 epoch:  0 loss: 2.16139\n",
      "class_loss: 0.50319 \t mask_loss: 1.65820\n",
      "class_acc: 0.18750 \t mask_acc: 0.24888\n",
      "batch:  85 epoch:  0 loss: 2.24625\n",
      "class_loss: 0.51076 \t mask_loss: 1.73549\n",
      "class_acc: 0.18750 \t mask_acc: 0.17974\n",
      "batch:  90 epoch:  0 loss: 2.14906\n",
      "class_loss: 0.44240 \t mask_loss: 1.70666\n",
      "class_acc: 0.12500 \t mask_acc: 0.21358\n",
      "batch:  95 epoch:  0 loss: 2.09989\n",
      "class_loss: 0.44482 \t mask_loss: 1.65507\n",
      "class_acc: 0.22500 \t mask_acc: 0.22757\n",
      "batch:  100 epoch:  0 loss: 2.13562\n",
      "class_loss: 0.45337 \t mask_loss: 1.68225\n",
      "class_acc: 0.13750 \t mask_acc: 0.23890\n",
      "batch:  105 epoch:  0 loss: 2.13261\n",
      "class_loss: 0.44853 \t mask_loss: 1.68408\n",
      "class_acc: 0.17500 \t mask_acc: 0.21754\n"
     ]
    }
   ],
   "source": [
    "torch.set_printoptions(threshold=10**6)\n",
    "iters_per_checkpoint = 5\n",
    "for epoch in range(10000):  # loop over the dataset multiple times\n",
    "    running_loss = 0.0\n",
    "    loss1,loss2 = 0.0,0.0\n",
    "    acc1,acc2 = 0.0,0.0\n",
    "    for i,data in enumerate(train_loader,0):\n",
    "        batch_images,batch_impulses,batch_gt_responses,batch_bboxes,batch_one_hot = data\n",
    "        batch_images,batch_impulses,batch_gt_responses,batch_bboxes,batch_one_hot = batch_images.cuda(),batch_impulses.cuda(),batch_gt_responses.cuda(),batch_bboxes.cuda(),batch_one_hot.cuda()\n",
    "        # zero the parameter gradients\n",
    "        optimizer.zero_grad()\n",
    "        # forward + backward + optimize\n",
    "        pred_class,pred_masks = net([batch_images,batch_impulses])\n",
    "        # we are giving no weighting for classes...\n",
    "        class_loss,mask_loss = model_lib.multi_mask_loss_criterion(pred_class,batch_one_hot,pred_masks,batch_gt_responses,batch_bboxes)\n",
    "        class_acc,mask_acc = model_lib.accuracy(pred_class,batch_one_hot,pred_masks[0],batch_gt_responses)\n",
    "        loss = class_loss+mask_loss\n",
    "        loss.backward()\n",
    "        optimizer.step()\n",
    "        running_loss += loss.item(); loss1 += class_loss.item(); loss2 += mask_loss.item()\n",
    "        acc1 += class_acc.item(); acc2 += mask_acc.item()\n",
    "        if i % iters_per_checkpoint == 0:\n",
    "            print(\"batch: \",i,\"epoch: \",epoch, \"loss: %0.5f\" % (running_loss/iters_per_checkpoint))\n",
    "            print(\"class_loss: %0.5f \\t mask_loss: %0.5f\"%(loss1/iters_per_checkpoint,loss2/iters_per_checkpoint))\n",
    "            print(\"class_acc: %0.5f \\t mask_acc: %0.5f\"%(acc1/iters_per_checkpoint,acc2/iters_per_checkpoint))\n",
    "#             torch.save(net.state_dict(),model_dir+(\"model_mask_vgg_%d_%d.pt\")%(2,2))\n",
    "            torch.save(net.state_dict(),model_dir+(\"stage_00.pt\"))\n",
    "            running_loss = 0.0; loss1 = 0.0; loss2 = 0.0\n",
    "            acc1 = 0.0; acc2 = 0.0\n",
    "    # print(\"batch: %d time:%0.3f sec\" %(i, end-start)); print(loss.item())\n",
    "print('Finished Training')"
   ]
  },
  {
   "cell_type": "code",
   "execution_count": null,
   "metadata": {},
   "outputs": [],
   "source": []
  },
  {
   "cell_type": "markdown",
   "metadata": {},
   "source": []
  }
 ],
 "metadata": {
  "kernelspec": {
   "display_name": "Python [conda env:re]",
   "language": "python",
   "name": "conda-env-re-py"
  },
  "language_info": {
   "codemirror_mode": {
    "name": "ipython",
    "version": 3
   },
   "file_extension": ".py",
   "mimetype": "text/x-python",
   "name": "python",
   "nbconvert_exporter": "python",
   "pygments_lexer": "ipython3",
   "version": "3.6.5"
  }
 },
 "nbformat": 4,
 "nbformat_minor": 2
}
