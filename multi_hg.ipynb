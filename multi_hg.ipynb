{
 "cells": [
  {
   "cell_type": "code",
   "execution_count": 1,
   "metadata": {},
   "outputs": [],
   "source": [
    "import model_lib\n",
    "import numpy as np\n",
    "import warnings\n",
    "\n",
    "warnings.filterwarnings('ignore', '.*output shape of zoom.*')\n",
    "import pickle\n",
    "import importlib\n",
    "importlib.reload(model_lib)\n",
    "\n",
    "import os\n",
    "import time\n",
    "os.environ[\"CUDA_DEVICE_ORDER\"] = \"PCI_BUS_ID\"\n",
    "os.environ[\"CUDA_VISIBLE_DEVICES\"] = \"1\"\n"
   ]
  },
  {
   "cell_type": "code",
   "execution_count": 2,
   "metadata": {},
   "outputs": [],
   "source": [
    "# config to train\n",
    "# TODO: check Config is correct\n",
    "class ProposalConfig():\n",
    "    NAME = \"InSegm\"\n",
    "    GPU_COUNT = 1\n",
    "    # online training\n",
    "    IMAGES_PER_GPU = 8\n",
    "    STEPS_PER_EPOCH = 100\n",
    "    NUM_WORKERS = 16\n",
    "    PIN_MEMORY = True\n",
    "    DATA_ORDER = \"cw_ins\"\n",
    "    VALIDATION_STEPS = 20\n",
    "    # including gt\n",
    "    NUM_CLASSES = 81\n",
    "    \n",
    "    # only flips\n",
    "    MEAN_PIXEL = np.array([0.485, 0.456, 0.406],dtype=np.float32).reshape(1,1,-1)\n",
    "    STD_PIXEL = np.array([0.229, 0.224, 0.225],dtype=np.float32).reshape(1,1,-1)\n",
    "    CLASS_NAMES = [\n",
    "        'BG', 'person', 'bicycle', 'car', 'motorcycle', 'airplane', 'bus',\n",
    "        'train', 'truck', 'boat', 'traffic light', 'fire hydrant', 'stop sign',\n",
    "        'parking meter', 'bench', 'bird', 'cat', 'dog', 'horse', 'sheep',\n",
    "        'cow', 'elephant', 'bear', 'zebra', 'giraffe', 'backpack', 'umbrella',\n",
    "        'handbag', 'tie', 'suitcase', 'frisbee', 'skis', 'snowboard',\n",
    "        'sports ball', 'kite', 'baseball bat', 'baseball glove', 'skateboard',\n",
    "        'surfboard', 'tennis racket', 'bottle', 'wine glass', 'cup', 'fork',\n",
    "        'knife', 'spoon', 'bowl', 'banana', 'apple', 'sandwich', 'orange',\n",
    "        'broccoli', 'carrot', 'hot dog', 'pizza', 'donut', 'cake', 'chair',\n",
    "        'couch', 'potted plant', 'bed', 'dining table', 'toilet', 'tv',\n",
    "        'laptop', 'mouse', 'remote', 'keyboard', 'cell phone', 'microwave',\n",
    "        'oven', 'toaster', 'sink', 'refrigerator', 'book', 'clock', 'vase',\n",
    "        'scissors', 'teddy bear', 'hair drier', 'toothbrush'\n",
    "    ]\n",
    "    WIDTH = 224\n",
    "    HEIGHT = 224\n",
    "    CROP_SIZE = 224\n",
    "    def __init__(self):\n",
    "        self.BATCH_SIZE = self.IMAGES_PER_GPU * self.GPU_COUNT\n",
    "        self.IMAGE_SHAPE = (self.WIDTH, self.HEIGHT,3)\n",
    "\n",
    "    def display(self):\n",
    "        \"\"\"Display Configuration values.\"\"\"\n",
    "        print(\"\\nConfigurations:\")\n",
    "        for a in dir(self):\n",
    "            if not a.startswith(\"__\") and not callable(getattr(self, a)):\n",
    "                print(\"{:30} {}\".format(a, getattr(self, a)))\n",
    "        print(\"\\n\")"
   ]
  },
  {
   "cell_type": "code",
   "execution_count": 3,
   "metadata": {},
   "outputs": [],
   "source": [
    "train_image_dir = \"/media/Data1/interns/aravind/train2017/\"\n",
    "# train_image_dir = \"/media/Data1/interns/aravind/val2017/\"\n",
    "val_image_dir = \"/media/Data1/interns/aravind/val2017/\"\n",
    "config = ProposalConfig()\n",
    "model_dir = \"./models/\"\n",
    "train_pickle = \"/media/Data1/interns/aravind/re/data/train_cwid.pickle\"\n",
    "# train_pickle = \"/media/Data1/interns/aravind/re/data/val_cwid.pickle\"\n",
    "val_pickle = \"/media/Data1/interns/aravind/re/data/val_cwid.pickle\""
   ]
  },
  {
   "cell_type": "code",
   "execution_count": 4,
   "metadata": {},
   "outputs": [],
   "source": [
    "with open(train_pickle,\"rb\") as train_ann:\n",
    "    train_cwid = pickle.load(train_ann)\n",
    "with open(val_pickle,\"rb\") as val_ann:\n",
    "    val_cwid = pickle.load(val_ann)"
   ]
  },
  {
   "cell_type": "code",
   "execution_count": 5,
   "metadata": {},
   "outputs": [],
   "source": [
    "train_loader = model_lib.get_loader(train_cwid,config,train_image_dir)\n",
    "val_loader = model_lib.get_loader(val_cwid,config,val_image_dir)"
   ]
  },
  {
   "cell_type": "code",
   "execution_count": 6,
   "metadata": {},
   "outputs": [],
   "source": [
    "import torch.optim as optim\n",
    "import torch\n",
    "import torch.nn.functional as F\n",
    "net = model_lib.MultiHGModel()"
   ]
  },
  {
   "cell_type": "code",
   "execution_count": 7,
   "metadata": {},
   "outputs": [],
   "source": [
    "# net.vgg0.load_state_dict(torch.load(\"./models/split_vgg16_features_4.pt\"))\n",
    "# net.vgg1.load_state_dict(torch.load(\"./models/split_vgg16_features_1.pt\"))\n",
    "pretrained_dict = torch.load(model_dir+\"single_06.pt\")\n",
    "net_dict = net.state_dict()\n",
    "pretrained_dict = {k: v for k, v in pretrained_dict.items() if k in net_dict}\n",
    "\n",
    "net_dict.update(pretrained_dict) \n",
    "net.load_state_dict(net_dict)"
   ]
  },
  {
   "cell_type": "code",
   "execution_count": 8,
   "metadata": {},
   "outputs": [],
   "source": [
    "# net.vgg1.load_state_dict(net.vgg0.state_dict())\n",
    "# net.mp1.load_state_dict(net.mp0.state_dict())\n",
    "net.vgg1.load_state_dict(torch.load(\"./models/split_vgg16_features_4_zero_init.pt\"))"
   ]
  },
  {
   "cell_type": "code",
   "execution_count": 9,
   "metadata": {},
   "outputs": [],
   "source": [
    "def set_trainable(module,state):\n",
    "    for param in module.parameters():\n",
    "        param.requires_grad = state\n",
    "\n",
    "set_trainable(net,False)\n",
    "set_trainable(net.mp0,False)\n",
    "set_trainable(net.mp1,True)\n",
    "set_trainable(net.class_predictor,False)\n",
    "for name,child in net.vgg0.named_children():\n",
    "    if name[:-1] == \"layer\":\n",
    "        [set_trainable(s.ignore_filters,False) for s in child[::2]]\n",
    "        [set_trainable(s.copy_filters,False) for s in child[::2]]\n",
    "for name,child in net.vgg1.named_children():\n",
    "    if name[:-1] == \"layer\":\n",
    "        [set_trainable(s.ignore_filters,False) for s in child[::2]]\n",
    "        [set_trainable(s.copy_filters,True) for s in child[::2]]\n"
   ]
  },
  {
   "cell_type": "code",
   "execution_count": 10,
   "metadata": {},
   "outputs": [
    {
     "name": "stdout",
     "output_type": "stream",
     "text": [
      "98417751 98417751\n",
      "[{'params': <generator object Module.parameters at 0x7fdc6b8f7e08>, 'lr': 0.0001, 'momentum': 0.9}, {'params': <generator object Module.parameters at 0x7fdc6b8f7f10>, 'lr': 0.0001, 'momentum': 0.9}, {'params': <generator object Module.parameters at 0x7fdc69d90888>, 'lr': 0.0001, 'momentum': 0.9}, {'params': <generator object Module.parameters at 0x7fdc6b8ec048>, 'lr': 0.0001, 'momentum': 0.9}, {'params': <generator object Module.parameters at 0x7fdc6b8ec0a0>, 'lr': 0.0001, 'momentum': 0.9}, {'params': <generator object Module.parameters at 0x7fdc6b8ec0f8>, 'lr': 0.0001, 'momentum': 0.9}, {'params': <generator object Module.parameters at 0x7fdc6b8ec150>, 'lr': 0.0001, 'momentum': 0.9}, {'params': <generator object Module.parameters at 0x7fdc6b8ec1a8>, 'lr': 0.0001, 'momentum': 0.9}, {'params': <generator object Module.parameters at 0x7fdc6b8ec200>, 'lr': 0.0001, 'momentum': 0.9}, {'params': <generator object Module.parameters at 0x7fdc6b8ec258>, 'lr': 0.0001, 'momentum': 0.9}, {'params': <generator object Module.parameters at 0x7fdc6b8ec2b0>, 'lr': 0.0001, 'momentum': 0.9}, {'params': <generator object Module.parameters at 0x7fdc6b8ec308>, 'lr': 0.0001, 'momentum': 0.9}, {'params': <generator object Module.parameters at 0x7fdc6b8ec360>, 'lr': 0.0001, 'momentum': 0.9}, {'params': <generator object Module.parameters at 0x7fdc6b8ec3b8>, 'lr': 0.0001, 'momentum': 0.9}, {'params': <generator object Module.parameters at 0x7fdc6b8ec410>, 'lr': 0.0001, 'momentum': 0.9}, {'params': <generator object Module.parameters at 0x7fdc6b8ec468>, 'lr': 0.0001, 'momentum': 0.9}, {'params': <generator object Module.parameters at 0x7fdc6b8ec4c0>, 'lr': 0.0001, 'momentum': 0.9}, {'params': <generator object Module.parameters at 0x7fdc6b8ec518>, 'lr': 0.0001, 'momentum': 0.9}, {'params': <generator object Module.parameters at 0x7fdc6b8ec570>, 'lr': 0.0001, 'momentum': 0.9}, {'params': <generator object Module.parameters at 0x7fdc6b8ec5c8>, 'lr': 0.0001, 'momentum': 0.9}, {'params': <generator object Module.parameters at 0x7fdc6b8ec620>, 'lr': 0.0001, 'momentum': 0.9}, {'params': <generator object Module.parameters at 0x7fdc6b8ec678>, 'lr': 0.0001, 'momentum': 0.9}, {'params': <generator object Module.parameters at 0x7fdc6b8ec6d0>, 'lr': 0.0001, 'momentum': 0.9}, {'params': <generator object Module.parameters at 0x7fdc6b8ec728>, 'lr': 0.0001, 'momentum': 0.9}, {'params': <generator object Module.parameters at 0x7fdc6b8ec780>, 'lr': 0.0001, 'momentum': 0.9}, {'params': <generator object Module.parameters at 0x7fdc6b8ec7d8>, 'lr': 0.0001, 'momentum': 0.9}, {'params': <generator object Module.parameters at 0x7fdc6b8ec830>, 'lr': 0.0001, 'momentum': 0.9}, {'params': <generator object Module.parameters at 0x7fdc6b8ec888>, 'lr': 0.0001, 'momentum': 0.9}, {'params': <generator object Module.parameters at 0x7fdc6b8ec8e0>, 'lr': 0.0001, 'momentum': 0.9}, {'params': <generator object Module.parameters at 0x7fdc6b8ec938>, 'lr': 0.0001, 'momentum': 0.9}, {'params': <generator object Module.parameters at 0x7fdc6b8ec990>, 'lr': 0.0001, 'momentum': 0.9}, {'params': <generator object Module.parameters at 0x7fdc6b8ec9e8>, 'lr': 0.0001, 'momentum': 0.9}, {'params': <generator object Module.parameters at 0x7fdc6b8eca40>, 'lr': 0.0001, 'momentum': 0.9}, {'params': <generator object Module.parameters at 0x7fdc6b8eca98>, 'lr': 0.0001, 'momentum': 0.9}, {'params': <generator object Module.parameters at 0x7fdc6b8ecaf0>, 'lr': 0.0001, 'momentum': 0.9}, {'params': <generator object Module.parameters at 0x7fdc6b8ecb48>, 'lr': 0.0001, 'momentum': 0.9}, {'params': <generator object Module.parameters at 0x7fdc6b8ecba0>, 'lr': 0.0001, 'momentum': 0.9}, {'params': <generator object Module.parameters at 0x7fdc6b8ecbf8>, 'lr': 0.0001, 'momentum': 0.9}, {'params': <generator object Module.parameters at 0x7fdc6b8ecc50>, 'lr': 0.0001, 'momentum': 0.9}, {'params': <generator object Module.parameters at 0x7fdc6b8ecca8>, 'lr': 0.0001, 'momentum': 0.9}, {'params': <generator object Module.parameters at 0x7fdc6b8ecd00>, 'lr': 0.0001, 'momentum': 0.9}, {'params': <generator object Module.parameters at 0x7fdc6b8ecd58>, 'lr': 0.0001, 'momentum': 0.9}, {'params': <generator object Module.parameters at 0x7fdc6b8ecdb0>, 'lr': 0.0001, 'momentum': 0.9}, {'params': <generator object Module.parameters at 0x7fdc6b8ece08>, 'lr': 0.0001, 'momentum': 0.9}, {'params': <generator object Module.parameters at 0x7fdc6b8ece60>, 'lr': 0.0001, 'momentum': 0.9}, {'params': <generator object Module.parameters at 0x7fdc6b8eceb8>, 'lr': 0.0001, 'momentum': 0.9}, {'params': <generator object Module.parameters at 0x7fdc6b8ecf10>, 'lr': 0.0001, 'momentum': 0.9}, {'params': <generator object Module.parameters at 0x7fdc6b8ecf68>, 'lr': 0.0001, 'momentum': 0.9}, {'params': <generator object Module.parameters at 0x7fdc6b8ecfc0>, 'lr': 0.0001, 'momentum': 0.9}, {'params': <generator object Module.parameters at 0x7fdc6b8eb048>, 'lr': 0.0001, 'momentum': 0.9}, {'params': <generator object Module.parameters at 0x7fdc6b8eb0a0>, 'lr': 0.0001, 'momentum': 0.9}, {'params': <generator object Module.parameters at 0x7fdc6b8eb0f8>, 'lr': 0.0001, 'momentum': 0.9}, {'params': <generator object Module.parameters at 0x7fdc6b8eb150>, 'lr': 0.0001, 'momentum': 0.9}, {'params': <generator object Module.parameters at 0x7fdc6b8eb1a8>, 'lr': 0.0001, 'momentum': 0.9}, {'params': <generator object Module.parameters at 0x7fdc6b8eb200>, 'lr': 0.0001, 'momentum': 0.9}]\n"
     ]
    }
   ],
   "source": [
    "# optimizer = optim.Adam(filter(lambda p: p.requires_grad, net.parameters()),lr = 0.001)\n",
    "# optimizer = optim.SGD(filter(lambda p: p.requires_grad, net.parameters()), lr=0.01, momentum=0.9)\n",
    "param_lr = []\n",
    "# param_lr.append({'params': net.mp0.parameters(),'lr':1e-4,'momentum':0.9})\n",
    "param_lr.append({'params': net.mp1.parameters(),'lr':1e-2,'momentum':0.9})\n",
    "# param_lr.append({'params': net.class_predictor.parameters(),'lr':1e-4,'momentum':0.9})\n",
    "\n",
    "# for name,child in net.vgg0.named_children():\n",
    "#     if name[:-1] == \"layer\":\n",
    "#         for s in child[::2]:\n",
    "#             lr = 0\n",
    "#             if int(name[-1]) > 0:\n",
    "#                 lr = 1e-4\n",
    "#             else:\n",
    "#                 lr = 0\n",
    "#             param_lr.append({'params':s.ignore_filters.parameters(),'lr':lr,'momentum':0.9})\n",
    "#             param_lr.append({'params':s.copy_filters.parameters(),'lr':1e-4,'momentum':0.9})\n",
    "for name,child in net.vgg1.named_children():\n",
    "    if name[:-1] == \"layer\":\n",
    "        for s in child[::2]:\n",
    "            lr = 0\n",
    "            if int(name[-1]) > 0:\n",
    "                lr = 1e-4\n",
    "            else:\n",
    "                lr = 0\n",
    "            param_lr.append({'params':s.ignore_filters.parameters(),'lr':lr,'momentum':0.9})\n",
    "            param_lr.append({'params':s.copy_filters.parameters(),'lr':1e-3,'momentum':0.9})\n",
    "\n",
    "net_size = sum([i.numel() for i in net.parameters()])\n",
    "trainable_params = filter(lambda p: p.requires_grad, net.parameters())\n",
    "trainable_size = sum([i.numel() for i in trainable_params])\n",
    "print(net_size,trainable_size)\n",
    "print(param_lr)\n",
    "optimizer = optim.SGD(param_lr)\n",
    "# scheduler = optim.lr_scheduler.ReduceLROnPlateau(optimizer, mode='min', factor=1, patience=10, verbose=True, threshold=0.0001, threshold_mode='rel', cooldown=100, min_lr=1e-2, eps=1e-08)"
   ]
  },
  {
   "cell_type": "code",
   "execution_count": 11,
   "metadata": {},
   "outputs": [],
   "source": [
    "net = net.cuda()"
   ]
  },
  {
   "cell_type": "code",
   "execution_count": null,
   "metadata": {
    "scrolled": false
   },
   "outputs": [
    {
     "name": "stdout",
     "output_type": "stream",
     "text": [
      "batch:  59 epoch:  0 loss: 4.77616\n",
      "class_loss: 1.55760 \t mask_loss: 3.21856\n",
      "class_acc: 0.56875 \t mask_acc: 0.55468\n",
      "batch:  119 epoch:  0 loss: 4.33141\n",
      "class_loss: 1.38311 \t mask_loss: 2.94830\n",
      "class_acc: 0.63333 \t mask_acc: 0.55966\n",
      "batch:  179 epoch:  0 loss: 4.11614\n",
      "class_loss: 1.22085 \t mask_loss: 2.89529\n",
      "class_acc: 0.66250 \t mask_acc: 0.55976\n",
      "batch:  239 epoch:  0 loss: 3.99534\n",
      "class_loss: 1.32588 \t mask_loss: 2.66947\n",
      "class_acc: 0.64167 \t mask_acc: 0.57899\n",
      "batch:  299 epoch:  0 loss: 4.30534\n",
      "class_loss: 1.33423 \t mask_loss: 2.97111\n",
      "class_acc: 0.62292 \t mask_acc: 0.57098\n",
      "batch:  359 epoch:  0 loss: 4.68440\n",
      "class_loss: 1.33049 \t mask_loss: 3.35391\n",
      "class_acc: 0.63333 \t mask_acc: 0.54850\n",
      "batch:  419 epoch:  0 loss: 4.15987\n",
      "class_loss: 1.25204 \t mask_loss: 2.90782\n",
      "class_acc: 0.67917 \t mask_acc: 0.59203\n",
      "batch:  479 epoch:  0 loss: 4.27535\n",
      "class_loss: 1.17478 \t mask_loss: 3.10057\n",
      "class_acc: 0.66875 \t mask_acc: 0.56259\n",
      "batch:  539 epoch:  0 loss: 4.14399\n",
      "class_loss: 1.30480 \t mask_loss: 2.83919\n",
      "class_acc: 0.64583 \t mask_acc: 0.58726\n",
      "batch:  599 epoch:  0 loss: 4.04857\n",
      "class_loss: 1.13643 \t mask_loss: 2.91215\n",
      "class_acc: 0.67083 \t mask_acc: 0.57780\n",
      "batch:  659 epoch:  0 loss: 3.98274\n",
      "class_loss: 1.12223 \t mask_loss: 2.86051\n",
      "class_acc: 0.67083 \t mask_acc: 0.56131\n",
      "batch:  719 epoch:  0 loss: 3.88936\n",
      "class_loss: 1.04109 \t mask_loss: 2.84828\n",
      "class_acc: 0.67917 \t mask_acc: 0.58542\n",
      "batch:  779 epoch:  0 loss: 4.28267\n",
      "class_loss: 1.14472 \t mask_loss: 3.13795\n",
      "class_acc: 0.65625 \t mask_acc: 0.56564\n",
      "batch:  839 epoch:  0 loss: 4.07370\n",
      "class_loss: 1.12443 \t mask_loss: 2.94927\n",
      "class_acc: 0.67292 \t mask_acc: 0.58044\n",
      "batch:  899 epoch:  0 loss: 4.12294\n",
      "class_loss: 1.19233 \t mask_loss: 2.93061\n",
      "class_acc: 0.66250 \t mask_acc: 0.56210\n",
      "batch:  959 epoch:  0 loss: 3.84822\n",
      "class_loss: 1.05923 \t mask_loss: 2.78898\n",
      "class_acc: 0.67917 \t mask_acc: 0.56856\n",
      "batch:  1019 epoch:  0 loss: 4.02659\n",
      "class_loss: 1.07112 \t mask_loss: 2.95547\n",
      "class_acc: 0.70833 \t mask_acc: 0.56997\n"
     ]
    }
   ],
   "source": [
    "# torch.set_printoptions(threshold=10**6)\n",
    "iters_per_checkpoint = 60\n",
    "for epoch in range(10000):  # loop over the dataset multiple times\n",
    "    running_loss = 0.0\n",
    "    loss1,loss2 = 0.0,0.0\n",
    "    acc1,acc2 = 0.0,0.0\n",
    "    for i,data in enumerate(train_loader,0):\n",
    "        batch_images,batch_impulses,batch_gt_responses,batch_bboxes,batch_one_hot = data\n",
    "        batch_images,batch_impulses,batch_gt_responses,batch_bboxes,batch_one_hot = batch_images.cuda(),batch_impulses.cuda(),batch_gt_responses.cuda(),batch_bboxes.cuda(),batch_one_hot.cuda()\n",
    "        # zero the parameter gradients\n",
    "        optimizer.zero_grad()\n",
    "        # forward + backward + optimize\n",
    "        pred_class,pred_masks = net([batch_images,batch_impulses])\n",
    "        # we are giving no weighting for classes...\n",
    "        class_loss,mask_loss = model_lib.multi_mask_loss_criterion(pred_class,batch_one_hot,pred_masks,batch_gt_responses,batch_bboxes)\n",
    "        class_acc,mask_acc = model_lib.accuracy(pred_class,batch_one_hot,pred_masks[1],batch_gt_responses)\n",
    "        loss = class_loss+mask_loss\n",
    "        loss.backward()\n",
    "        optimizer.step()\n",
    "        running_loss += loss.item(); loss1 += class_loss.item(); loss2 += mask_loss.item()\n",
    "        acc1 += class_acc.item(); acc2 += mask_acc.item()\n",
    "        if i % iters_per_checkpoint == iters_per_checkpoint-1:\n",
    "#             scheduler.step((loss1+loss2)/iters_per_checkpoint)\n",
    "            print(\"batch: \",i,\"epoch: \",epoch, \"loss: %0.5f\" % (running_loss/iters_per_checkpoint))\n",
    "            print(\"class_loss: %0.5f \\t mask_loss: %0.5f\"%(loss1/iters_per_checkpoint,loss2/iters_per_checkpoint))\n",
    "            print(\"class_acc: %0.5f \\t mask_acc: %0.5f\"%(acc1/iters_per_checkpoint,acc2/iters_per_checkpoint))\n",
    "#             torch.save(net.state_dict(),model_dir+(\"model_mask_vgg_%d_%d.pt\")%(2,2))\n",
    "            torch.save(net.state_dict(),model_dir+(\"reg_00.pt\"))\n",
    "            running_loss = 0.0; loss1 = 0.0; loss2 = 0.0\n",
    "            acc1 = 0.0; acc2 = 0.0\n",
    "    # print(\"batch: %d time:%0.3f sec\" %(i, end-start)); print(loss.item())\n",
    "print('Finished Training')"
   ]
  },
  {
   "cell_type": "code",
   "execution_count": null,
   "metadata": {},
   "outputs": [],
   "source": []
  },
  {
   "cell_type": "markdown",
   "metadata": {},
   "source": []
  }
 ],
 "metadata": {
  "kernelspec": {
   "display_name": "Python [conda env:re]",
   "language": "python",
   "name": "conda-env-re-py"
  },
  "language_info": {
   "codemirror_mode": {
    "name": "ipython",
    "version": 3
   },
   "file_extension": ".py",
   "mimetype": "text/x-python",
   "name": "python",
   "nbconvert_exporter": "python",
   "pygments_lexer": "ipython3",
   "version": "3.6.5"
  }
 },
 "nbformat": 4,
 "nbformat_minor": 2
}
