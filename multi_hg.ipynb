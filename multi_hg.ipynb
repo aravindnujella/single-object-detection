{
 "cells": [
  {
   "cell_type": "code",
   "execution_count": 1,
   "metadata": {},
   "outputs": [],
   "source": [
    "import model_lib\n",
    "import numpy as np\n",
    "import warnings\n",
    "\n",
    "warnings.filterwarnings('ignore', '.*output shape of zoom.*')\n",
    "import pickle\n",
    "import importlib\n",
    "importlib.reload(model_lib)\n",
    "\n",
    "import os\n",
    "import time\n",
    "os.environ[\"CUDA_DEVICE_ORDER\"] = \"PCI_BUS_ID\"\n",
    "os.environ[\"CUDA_VISIBLE_DEVICES\"] = \"1\"\n"
   ]
  },
  {
   "cell_type": "code",
   "execution_count": 2,
   "metadata": {},
   "outputs": [],
   "source": [
    "# config to train\n",
    "# TODO: check Config is correct\n",
    "class ProposalConfig():\n",
    "    NAME = \"InSegm\"\n",
    "    GPU_COUNT = 1\n",
    "    # online training\n",
    "    IMAGES_PER_GPU = 16\n",
    "    STEPS_PER_EPOCH = 100\n",
    "    NUM_WORKERS = 8\n",
    "    PIN_MEMORY = True\n",
    "    DATA_ORDER = \"cw_ins\"\n",
    "    VALIDATION_STEPS = 20\n",
    "    # including gt\n",
    "    NUM_CLASSES = 81\n",
    "    \n",
    "    # only flips\n",
    "    MEAN_PIXEL = np.array([0.485, 0.456, 0.406],dtype=np.float32).reshape(1,1,-1)\n",
    "    STD_PIXEL = np.array([0.229, 0.224, 0.225],dtype=np.float32).reshape(1,1,-1)\n",
    "    CLASS_NAMES = [\n",
    "        'BG', 'person', 'bicycle', 'car', 'motorcycle', 'airplane', 'bus',\n",
    "        'train', 'truck', 'boat', 'traffic light', 'fire hydrant', 'stop sign',\n",
    "        'parking meter', 'bench', 'bird', 'cat', 'dog', 'horse', 'sheep',\n",
    "        'cow', 'elephant', 'bear', 'zebra', 'giraffe', 'backpack', 'umbrella',\n",
    "        'handbag', 'tie', 'suitcase', 'frisbee', 'skis', 'snowboard',\n",
    "        'sports ball', 'kite', 'baseball bat', 'baseball glove', 'skateboard',\n",
    "        'surfboard', 'tennis racket', 'bottle', 'wine glass', 'cup', 'fork',\n",
    "        'knife', 'spoon', 'bowl', 'banana', 'apple', 'sandwich', 'orange',\n",
    "        'broccoli', 'carrot', 'hot dog', 'pizza', 'donut', 'cake', 'chair',\n",
    "        'couch', 'potted plant', 'bed', 'dining table', 'toilet', 'tv',\n",
    "        'laptop', 'mouse', 'remote', 'keyboard', 'cell phone', 'microwave',\n",
    "        'oven', 'toaster', 'sink', 'refrigerator', 'book', 'clock', 'vase',\n",
    "        'scissors', 'teddy bear', 'hair drier', 'toothbrush'\n",
    "    ]\n",
    "    WIDTH = 224\n",
    "    HEIGHT = 224\n",
    "    CROP_SIZE = 224\n",
    "    def __init__(self):\n",
    "        self.BATCH_SIZE = self.IMAGES_PER_GPU * self.GPU_COUNT\n",
    "        self.IMAGE_SHAPE = (self.WIDTH, self.HEIGHT,3)\n",
    "\n",
    "    def display(self):\n",
    "        \"\"\"Display Configuration values.\"\"\"\n",
    "        print(\"\\nConfigurations:\")\n",
    "        for a in dir(self):\n",
    "            if not a.startswith(\"__\") and not callable(getattr(self, a)):\n",
    "                print(\"{:30} {}\".format(a, getattr(self, a)))\n",
    "        print(\"\\n\")"
   ]
  },
  {
   "cell_type": "code",
   "execution_count": 3,
   "metadata": {},
   "outputs": [],
   "source": [
    "train_image_dir = \"/media/Data1/interns/aravind/train2017/\"\n",
    "# train_image_dir = \"/media/Data1/interns/aravind/val2017/\"\n",
    "val_image_dir = \"/media/Data1/interns/aravind/val2017/\"\n",
    "config = ProposalConfig()\n",
    "model_dir = \"./models/\"\n",
    "train_pickle = \"/media/Data1/interns/aravind/re/data/train_cwid.pickle\"\n",
    "# train_pickle = \"/media/Data1/interns/aravind/re/data/val_cwid.pickle\"\n",
    "val_pickle = \"/media/Data1/interns/aravind/re/data/val_cwid.pickle\""
   ]
  },
  {
   "cell_type": "code",
   "execution_count": 4,
   "metadata": {},
   "outputs": [],
   "source": [
    "with open(train_pickle,\"rb\") as train_ann:\n",
    "    train_cwid = pickle.load(train_ann)\n",
    "with open(val_pickle,\"rb\") as val_ann:\n",
    "    val_cwid = pickle.load(val_ann)"
   ]
  },
  {
   "cell_type": "code",
   "execution_count": 5,
   "metadata": {},
   "outputs": [],
   "source": [
    "train_loader = model_lib.get_loader(train_cwid,config,train_image_dir)\n",
    "val_loader = model_lib.get_loader(val_cwid,config,val_image_dir)\n",
    "# for j in enumerate(train_loader):\n",
    "#     k = j"
   ]
  },
  {
   "cell_type": "code",
   "execution_count": 6,
   "metadata": {},
   "outputs": [],
   "source": [
    "\n",
    "import torch.optim as optim\n",
    "import torch\n",
    "import torch.nn.functional as F\n",
    "net = model_lib.MultiHGModel()\n"
   ]
  },
  {
   "cell_type": "code",
   "execution_count": 7,
   "metadata": {},
   "outputs": [],
   "source": [
    "# net.vgg0.load_state_dict(torch.load(\"./models/split_vgg16_features_4.pt\"))\n",
    "# net.vgg1.load_state_dict(torch.load(\"./models/split_vgg16_features_1.pt\"))\n",
    "# net.vgg2.load_state_dict(torch.load(\"./models/split_vgg16_features_1.pt\"))\n",
    "pretrained_dict = torch.load(model_dir+\"new_01.pt\")\n",
    "net_dict = net.state_dict()\n",
    "pretrained_dict = {k: v for k, v in pretrained_dict.items() if k in net_dict}\n",
    "\n",
    "net_dict.update(pretrained_dict) \n",
    "net.load_state_dict(net_dict)"
   ]
  },
  {
   "cell_type": "code",
   "execution_count": 8,
   "metadata": {},
   "outputs": [
    {
     "name": "stdout",
     "output_type": "stream",
     "text": [
      "94014434 25040594\n"
     ]
    }
   ],
   "source": [
    "net_size = sum([i.numel() for i in net.parameters()])\n",
    "def set_trainable(module,state):\n",
    "    for param in module.parameters():\n",
    "        param.requires_grad = state\n",
    "\n",
    "set_trainable(net,False)\n",
    "set_trainable(net.mp0,True)\n",
    "set_trainable(net.mp1,True)\n",
    "set_trainable(net.mp2,True)\n",
    "set_trainable(net.class_predictor,True)\n",
    "for name,child in net.vgg0.named_children():\n",
    "    if name[:-1] == \"layer\":\n",
    "        [set_trainable(s.ignore_filters,False) for s in child[::2]]\n",
    "        [set_trainable(s.copy_filters,False) for s in child[::2]]\n",
    "#     elif name[:-1] == \"wing_conv\":\n",
    "#         set_trainable(child,True)\n",
    "for name,child in net.vgg1.named_children():\n",
    "    if name[:-1] == \"layer\":\n",
    "        [set_trainable(s.ignore_filters,False) for s in child[::2]]\n",
    "        [set_trainable(s.copy_filters,False) for s in child[::2]]\n",
    "#     elif name[:-1] == \"wing_conv\":\n",
    "#         set_trainable(child,True)\n",
    "for name,child in net.vgg2.named_children():\n",
    "    if name[:-1] == \"layer\":\n",
    "        [set_trainable(s.ignore_filters,False) for s in child[::2]]\n",
    "        [set_trainable(s.copy_filters,False) for s in child[::2]]\n",
    "#     elif name[:-1] == \"wing_conv\":\n",
    "#         set_trainable(child,True)\n",
    "trainable_params = filter(lambda p: p.requires_grad, net.parameters())\n",
    "trainable_size = sum([i.numel() for i in trainable_params])\n",
    "print(net_size,trainable_size)\n",
    "net = net.cuda()"
   ]
  },
  {
   "cell_type": "code",
   "execution_count": null,
   "metadata": {
    "scrolled": false
   },
   "outputs": [
    {
     "name": "stdout",
     "output_type": "stream",
     "text": [
      "batch:  0 epoch:  0 loss: 0.03786\n",
      "class_loss: 0.02836 \t mask_loss: 0.00950\n",
      "class_acc: 0.00000 \t mask_acc: 0.00000\n",
      "batch:  60 epoch:  0 loss: 1.90330\n",
      "class_loss: 1.34310 \t mask_loss: 0.56020\n",
      "class_acc: 0.00000 \t mask_acc: 0.00000\n",
      "batch:  120 epoch:  0 loss: 1.88145\n",
      "class_loss: 1.31316 \t mask_loss: 0.56829\n",
      "class_acc: 0.00000 \t mask_acc: 0.00000\n",
      "batch:  180 epoch:  0 loss: 2.00311\n",
      "class_loss: 1.41670 \t mask_loss: 0.58640\n",
      "class_acc: 0.00000 \t mask_acc: 0.00000\n",
      "batch:  240 epoch:  0 loss: 1.85992\n",
      "class_loss: 1.28704 \t mask_loss: 0.57288\n",
      "class_acc: 0.00000 \t mask_acc: 0.00000\n",
      "batch:  300 epoch:  0 loss: 1.90305\n",
      "class_loss: 1.35326 \t mask_loss: 0.54979\n",
      "class_acc: 0.00000 \t mask_acc: 0.00000\n",
      "batch:  360 epoch:  0 loss: 1.76096\n",
      "class_loss: 1.20565 \t mask_loss: 0.55531\n",
      "class_acc: 0.00000 \t mask_acc: 0.00000\n",
      "batch:  420 epoch:  0 loss: 1.89669\n",
      "class_loss: 1.34261 \t mask_loss: 0.55408\n",
      "class_acc: 0.00000 \t mask_acc: 0.00000\n",
      "batch:  480 epoch:  0 loss: 1.82367\n",
      "class_loss: 1.25579 \t mask_loss: 0.56787\n",
      "class_acc: 0.00000 \t mask_acc: 0.00000\n",
      "batch:  540 epoch:  0 loss: 1.75895\n",
      "class_loss: 1.21577 \t mask_loss: 0.54317\n",
      "class_acc: 0.00000 \t mask_acc: 0.00000\n",
      "batch:  600 epoch:  0 loss: 1.98129\n",
      "class_loss: 1.40928 \t mask_loss: 0.57201\n",
      "class_acc: 0.00000 \t mask_acc: 0.00000\n",
      "batch:  660 epoch:  0 loss: 1.89881\n",
      "class_loss: 1.32886 \t mask_loss: 0.56995\n",
      "class_acc: 0.00000 \t mask_acc: 0.00000\n",
      "batch:  720 epoch:  0 loss: 2.01001\n",
      "class_loss: 1.45128 \t mask_loss: 0.55873\n",
      "class_acc: 0.00000 \t mask_acc: 0.00000\n",
      "batch:  780 epoch:  0 loss: 1.77265\n",
      "class_loss: 1.21547 \t mask_loss: 0.55718\n",
      "class_acc: 0.00000 \t mask_acc: 0.00000\n",
      "batch:  840 epoch:  0 loss: 1.83922\n",
      "class_loss: 1.29352 \t mask_loss: 0.54570\n",
      "class_acc: 0.00000 \t mask_acc: 0.00000\n",
      "batch:  900 epoch:  0 loss: 1.93192\n",
      "class_loss: 1.35725 \t mask_loss: 0.57467\n",
      "class_acc: 0.00000 \t mask_acc: 0.00000\n",
      "batch:  960 epoch:  0 loss: 1.74847\n",
      "class_loss: 1.19512 \t mask_loss: 0.55336\n",
      "class_acc: 0.00000 \t mask_acc: 0.00000\n",
      "batch:  1020 epoch:  0 loss: 1.97406\n",
      "class_loss: 1.40765 \t mask_loss: 0.56641\n",
      "class_acc: 0.00000 \t mask_acc: 0.00000\n",
      "batch:  1080 epoch:  0 loss: 1.86198\n",
      "class_loss: 1.31180 \t mask_loss: 0.55018\n",
      "class_acc: 0.00000 \t mask_acc: 0.00000\n"
     ]
    }
   ],
   "source": [
    "# net.load_state_dict(torch.load(model_dir+\"model_bce_0_2600.pt\"))\n",
    "optimizer = optim.SGD(filter(lambda p: p.requires_grad, net.parameters()), lr=0.01, momentum=0.9)\n",
    "# optimizer = optim.Adam(filter(lambda p: p.requires_grad, net.parameters()),lr = 0.001)\n",
    "\n",
    "iters_per_checkpoint = 60\n",
    "for epoch in range(10000):  # loop over the dataset multiple times\n",
    "    running_loss = 0.0\n",
    "    loss1,loss2 = 0.0,0.0\n",
    "    acc1,acc2 = 0.0,0.0\n",
    "    for i,data in enumerate(train_loader,0):\n",
    "        batch_images,batch_impulses,batch_gt_responses,batch_bboxes,batch_one_hot = data\n",
    "        batch_images,batch_impulses,batch_gt_responses,batch_bboxes,batch_one_hot = batch_images.cuda(),batch_impulses.cuda(),batch_gt_responses.cuda(),batch_bboxes.cuda(),batch_one_hot.cuda()\n",
    "        # zero the parameter gradients\n",
    "        optimizer.zero_grad()\n",
    "        # forward + backward + optimize\n",
    "        pred_class,pred_masks = net([batch_images,batch_impulses])\n",
    "        # we are giving no weighting for classes...\n",
    "        class_loss,mask_loss = model_lib.multi_mask_loss_criterion(pred_class,batch_one_hot,pred_masks,batch_gt_responses,batch_bboxes)\n",
    "        class_acc,mask_acc = model_lib.accuracy(pred_class,batch_one_hot,pred_masks[-1],batch_gt_responses)\n",
    "        loss = mask_loss + class_loss\n",
    "        loss.backward()\n",
    "        optimizer.step()\n",
    "        running_loss += loss.item(); loss1 += class_loss.item(); loss2 += mask_loss.item()\n",
    "        acc1 += class_acc.item(); acc2 += mask_acc.item()\n",
    "        if i % iters_per_checkpoint == 0:\n",
    "            print(\"batch: \",i,\"epoch: \",epoch, \"loss: %0.5f\" % (running_loss/iters_per_checkpoint))\n",
    "            print(\"class_loss: %0.5f \\t mask_loss: %0.5f\"%(loss1/iters_per_checkpoint,loss2/iters_per_checkpoint))\n",
    "            print(\"class_acc: %0.5f \\t mask_acc: %0.5f\"%(acc1/iters_per_checkpoint,acc2/iters_per_checkpoint))\n",
    "#             torch.save(net.state_dict(),model_dir+(\"model_mask_vgg_%d_%d.pt\")%(2,2))\n",
    "            torch.save(net.state_dict(),model_dir+(\"new_02.pt\"))\n",
    "            running_loss = 0.0; loss1 = 0.0; loss2 = 0.0\n",
    "            acc1 = 0.0; acc2 = 0.0\n",
    "    # print(\"batch: %d time:%0.3f sec\" %(i, end-start)); print(loss.item())\n",
    "print('Finished Training')"
   ]
  },
  {
   "cell_type": "code",
   "execution_count": null,
   "metadata": {},
   "outputs": [],
   "source": []
  },
  {
   "cell_type": "raw",
   "metadata": {},
   "source": []
  }
 ],
 "metadata": {
  "kernelspec": {
   "display_name": "Python [conda env:re]",
   "language": "python",
   "name": "conda-env-re-py"
  },
  "language_info": {
   "codemirror_mode": {
    "name": "ipython",
    "version": 3
   },
   "file_extension": ".py",
   "mimetype": "text/x-python",
   "name": "python",
   "nbconvert_exporter": "python",
   "pygments_lexer": "ipython3",
   "version": "3.6.5"
  }
 },
 "nbformat": 4,
 "nbformat_minor": 2
}
