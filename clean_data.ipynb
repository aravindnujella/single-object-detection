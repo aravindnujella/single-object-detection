{
 "cells": [
  {
   "cell_type": "code",
   "execution_count": null,
   "metadata": {},
   "outputs": [],
   "source": [
    "from pycocotools.coco import COCO\n",
    "from pycocotools.cocoeval import COCOeval\n",
    "from pycocotools import mask as maskUtils\n",
    "import numpy as np\n",
    "import pickle\n"
   ]
  },
  {
   "cell_type": "code",
   "execution_count": null,
   "metadata": {},
   "outputs": [],
   "source": [
    "root_dir = \"/media/data/nishanth/aravind/\"\n",
    "class ClassInstancesDataset():\n",
    "    def __init__(self):\n",
    "        self.class_wise_instance_info = [[] for i in range(81)]\n",
    "        self.instance_info = []\n",
    "train_pickle = root_dir+\"train_cid.pickle\"\n",
    "val_pickle = root_dir+\"val_cid.pickle\""
   ]
  },
  {
   "cell_type": "code",
   "execution_count": null,
   "metadata": {},
   "outputs": [],
   "source": [
    "with open(train_pickle,\"rb\") as train_ann:\n",
    "    train_cid = pickle.load(train_ann)\n",
    "#     train_dataset = model_lib.CocoDataset(train_cid,config)\n",
    "with open(val_pickle,\"rb\") as val_ann:\n",
    "    val_cid = pickle.load(val_ann)\n",
    "#     val_dataset = model_lib.CocoDataset(val_cid,config)"
   ]
  },
  {
   "cell_type": "code",
   "execution_count": null,
   "metadata": {},
   "outputs": [],
   "source": [
    "cwid = [[] for i in range(81)]\n",
    "crowd_count = 0\n",
    "for instance in val_cid.instance_info:\n",
    "    image_path = instance['image_path']\n",
    "    image_id = image_path.split('/')[-1]\n",
    "    mask_obj = instance['mask_obj']\n",
    "    class_id = instance['class_id']\n",
    "    is_crowd = (class_id < 0)\n",
    "    if is_crowd and class_id != -1: \n",
    "        crowd_count+= 1\n",
    "        print(class_id)\n",
    "    class_id = abs(class_id)\n",
    "    cwid[class_id].append({'image_id':image_id,'class_id':class_id,'is_crowd':is_crowd,'mask_obj':mask_obj})\n",
    "print(crowd_count)"
   ]
  },
  {
   "cell_type": "code",
   "execution_count": null,
   "metadata": {},
   "outputs": [],
   "source": [
    "with open('val_cwid.pickle','wb') as handle:\n",
    "    pickle.dump(cwid,handle)"
   ]
  },
  {
   "cell_type": "code",
   "execution_count": null,
   "metadata": {},
   "outputs": [],
   "source": [
    "print([len(i) for i in cwid])"
   ]
  },
  {
   "cell_type": "code",
   "execution_count": null,
   "metadata": {},
   "outputs": [],
   "source": []
  }
 ],
 "metadata": {
  "kernelspec": {
   "display_name": "Python [conda env:myenv]",
   "language": "python",
   "name": "conda-env-myenv-py"
  },
  "language_info": {
   "codemirror_mode": {
    "name": "ipython",
    "version": 3
   },
   "file_extension": ".py",
   "mimetype": "text/x-python",
   "name": "python",
   "nbconvert_exporter": "python",
   "pygments_lexer": "ipython3",
   "version": "3.5.5"
  }
 },
 "nbformat": 4,
 "nbformat_minor": 2
}
