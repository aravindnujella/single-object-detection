{
 "cells": [
  {
   "cell_type": "code",
   "execution_count": 1,
   "metadata": {},
   "outputs": [],
   "source": [
    "import model_lib\n",
    "import numpy as np\n",
    "import warnings\n",
    "warnings.filterwarnings('ignore', '.*output shape of zoom.*')\n",
    "import pickle\n",
    "import importlib\n",
    "importlib.reload(model_lib)\n",
    "import os\n",
    "import time\n",
    "\n",
    "os.environ[\"CUDA_DEVICE_ORDER\"] = \"PCI_BUS_ID\"\n",
    "os.environ[\"CUDA_VISIBLE_DEVICES\"] = \"0\"\n"
   ]
  },
  {
   "cell_type": "code",
   "execution_count": 2,
   "metadata": {},
   "outputs": [],
   "source": [
    "# config to train\n",
    "# TODO: check Config is correct\n",
    "class ProposalConfig():\n",
    "    NAME = \"InSegm\"\n",
    "    GPU_COUNT = 1\n",
    "    # online training\n",
    "    IMAGES_PER_GPU = 1\n",
    "    STEPS_PER_EPOCH = 100\n",
    "    NUM_WORKERS = 1\n",
    "    PIN_MEMORY = True\n",
    "    DATA_ORDER = \"cw_ins\"\n",
    "    VALIDATION_STEPS = 20\n",
    "    # including gt\n",
    "    NUM_CLASSES = 81\n",
    "    \n",
    "    # only flips\n",
    "    MEAN_PIXEL = np.array([0.485, 0.456, 0.406],dtype=np.float32).reshape(1,1,-1)\n",
    "    STD_PIXEL = np.array([0.229, 0.224, 0.225],dtype=np.float32).reshape(1,1,-1)\n",
    "    CLASS_NAMES = [\n",
    "        'BG', 'person', 'bicycle', 'car', 'motorcycle', 'airplane', 'bus',\n",
    "        'train', 'truck', 'boat', 'traffic light', 'fire hydrant', 'stop sign',\n",
    "        'parking meter', 'bench', 'bird', 'cat', 'dog', 'horse', 'sheep',\n",
    "        'cow', 'elephant', 'bear', 'zebra', 'giraffe', 'backpack', 'umbrella',\n",
    "        'handbag', 'tie', 'suitcase', 'frisbee', 'skis', 'snowboard',\n",
    "        'sports ball', 'kite', 'baseball bat', 'baseball glove', 'skateboard',\n",
    "        'surfboard', 'tennis racket', 'bottle', 'wine glass', 'cup', 'fork',\n",
    "        'knife', 'spoon', 'bowl', 'banana', 'apple', 'sandwich', 'orange',\n",
    "        'broccoli', 'carrot', 'hot dog', 'pizza', 'donut', 'cake', 'chair',\n",
    "        'couch', 'potted plant', 'bed', 'dining table', 'toilet', 'tv',\n",
    "        'laptop', 'mouse', 'remote', 'keyboard', 'cell phone', 'microwave',\n",
    "        'oven', 'toaster', 'sink', 'refrigerator', 'book', 'clock', 'vase',\n",
    "        'scissors', 'teddy bear', 'hair drier', 'toothbrush'\n",
    "    ]\n",
    "    WIDTH = 224\n",
    "    HEIGHT = 224\n",
    "    CROP_SIZE = 224\n",
    "    def __init__(self):\n",
    "        self.BATCH_SIZE = self.IMAGES_PER_GPU * self.GPU_COUNT\n",
    "        self.IMAGE_SHAPE = (self.WIDTH, self.HEIGHT,3)\n",
    "\n",
    "    def display(self):\n",
    "        \"\"\"Display Configuration values.\"\"\"\n",
    "        print(\"\\nConfigurations:\")\n",
    "        for a in dir(self):\n",
    "            if not a.startswith(\"__\") and not callable(getattr(self, a)):\n",
    "                print(\"{:30} {}\".format(a, getattr(self, a)))\n",
    "        print(\"\\n\")"
   ]
  },
  {
   "cell_type": "code",
   "execution_count": 3,
   "metadata": {},
   "outputs": [],
   "source": [
    "train_image_dir = \"/media/Data1/interns/aravind/train2017/\"\n",
    "# train_image_dir = \"/media/Data1/interns/aravind/val2017/\"\n",
    "val_image_dir = \"/media/Data1/interns/aravind/val2017/\"\n",
    "config = ProposalConfig()\n",
    "model_dir = \"./models/\"\n",
    "train_pickle = \"/media/Data1/interns/aravind/re/data/train_cwid.pickle\"\n",
    "# train_pickle = \"/media/Data1/interns/aravind/re/data/val_cwid.pickle\"\n",
    "val_pickle = \"/media/Data1/interns/aravind/re/data/val_cwid.pickle\""
   ]
  },
  {
   "cell_type": "code",
   "execution_count": 4,
   "metadata": {},
   "outputs": [],
   "source": [
    "# with open(train_pickle,\"rb\") as train_ann:\n",
    "#     train_cwid = pickle.load(train_ann)\n",
    "with open(val_pickle,\"rb\") as val_ann:\n",
    "    val_cwid = pickle.load(val_ann)"
   ]
  },
  {
   "cell_type": "code",
   "execution_count": 5,
   "metadata": {},
   "outputs": [],
   "source": [
    "# train_loader = model_lib.get_loader(train_cwid,config,train_image_dir)\n",
    "val_loader = model_lib.get_loader(val_cwid,config,val_image_dir)"
   ]
  },
  {
   "cell_type": "code",
   "execution_count": null,
   "metadata": {
    "scrolled": true
   },
   "outputs": [
    {
     "name": "stdout",
     "output_type": "stream",
     "text": [
      "person\n",
      "tensor(0.1832, device='cuda:0') tensor(0, device='cuda:0') BG\n",
      "tensor(0.1618, device='cuda:0') tensor(73, device='cuda:0') refrigerator\n",
      "tensor(0.1435, device='cuda:0') tensor(70, device='cuda:0') oven\n",
      "tensor(1.00000e-02 *\n",
      "       6.6855, device='cuda:0') tensor(50, device='cuda:0') orange\n",
      "tensor(1.00000e-02 *\n",
      "       5.7165, device='cuda:0') tensor(54, device='cuda:0') pizza\n",
      "\n",
      "microwave\n",
      "tensor(0.5574, device='cuda:0') tensor(70, device='cuda:0') oven\n",
      "tensor(0.2767, device='cuda:0') tensor(73, device='cuda:0') refrigerator\n",
      "tensor(1.00000e-02 *\n",
      "       3.8916, device='cuda:0') tensor(69, device='cuda:0') microwave\n",
      "tensor(1.00000e-02 *\n",
      "       3.8749, device='cuda:0') tensor(0, device='cuda:0') BG\n",
      "tensor(1.00000e-02 *\n",
      "       2.7827, device='cuda:0') tensor(29, device='cuda:0') suitcase\n",
      "\n",
      "person\n",
      "tensor(0.4507, device='cuda:0') tensor(1, device='cuda:0') person\n",
      "tensor(1.00000e-02 *\n",
      "       8.6805, device='cuda:0') tensor(0, device='cuda:0') BG\n",
      "tensor(1.00000e-02 *\n",
      "       7.0551, device='cuda:0') tensor(58, device='cuda:0') couch\n",
      "tensor(1.00000e-02 *\n",
      "       6.6348, device='cuda:0') tensor(27, device='cuda:0') handbag\n",
      "tensor(1.00000e-02 *\n",
      "       4.7474, device='cuda:0') tensor(60, device='cuda:0') bed\n",
      "\n",
      "microwave\n",
      "tensor(0.3848, device='cuda:0') tensor(27, device='cuda:0') handbag\n",
      "tensor(1.00000e-02 *\n",
      "       6.9266, device='cuda:0') tensor(70, device='cuda:0') oven\n",
      "tensor(1.00000e-02 *\n",
      "       6.3193, device='cuda:0') tensor(59, device='cuda:0') potted plant\n",
      "tensor(1.00000e-02 *\n",
      "       5.9952, device='cuda:0') tensor(74, device='cuda:0') book\n",
      "tensor(1.00000e-02 *\n",
      "       5.6566, device='cuda:0') tensor(57, device='cuda:0') chair\n"
     ]
    }
   ],
   "source": [
    "import torch\n",
    "import torch.nn.functional as F\n",
    "from PIL import Image\n",
    "net = model_lib.MultiHGModel()\n",
    "\n",
    "pretrained_dict = torch.load(model_dir+\"iou_loss_01.pt\")\n",
    "net_dict = net.state_dict()\n",
    "\n",
    "\n",
    "pretrained_dict = {k: v for k, v in pretrained_dict.items() if k in net_dict}\n",
    "net_dict.update(pretrained_dict) \n",
    "net.load_state_dict(net_dict)\n",
    "\n",
    "# net.vgg.load_state_dict(torch.load(model_dir+\"model_vgg_class_only.pt\").vgg)\n",
    "# net.classifier.load_state_dict(torch.load(model_dir+\"model_vgg_class_only.pt\").classifier)\n",
    "net = net.cuda()\n",
    "with torch.no_grad():\n",
    "    for i,data in enumerate(val_loader):\n",
    "        batch_images,batch_impulses,batch_gt_responses,batch_bboxes,batch_one_hot = data\n",
    "        print(config.CLASS_NAMES[np.argmax(batch_one_hot.numpy())])\n",
    "        a,b,c,d= batch_images.numpy(), batch_impulses.numpy(),batch_gt_responses.numpy(),batch_bboxes.numpy()\n",
    "        a = np.moveaxis(a,1,-1)\n",
    "        b = np.moveaxis(b,1,-1)\n",
    "        c = np.moveaxis(c,1,-1)\n",
    "        d = np.moveaxis(d,1,-1)\n",
    "        Image.fromarray(((a[0]*config.STD_PIXEL + config.MEAN_PIXEL)*255).astype(np.uint8),\"RGB\").show()\n",
    "        Image.fromarray((b[0][:,:,0]*128).astype(np.uint8),\"L\").show()\n",
    "        Image.fromarray((c[0][:,:,0]*128).astype(np.uint8),\"L\").show()\n",
    "        Image.fromarray((d[0][:,:,0]*128).astype(np.uint8),\"L\").show()\n",
    "        batch_images,batch_impulses,batch_gt_responses,batch_bboxes,batch_one_hot = batch_images.cuda(),batch_impulses.cuda(),batch_gt_responses.cuda(),batch_bboxes.cuda(),batch_one_hot.cuda()\n",
    "        pred_class,pred_masks = net([batch_images,batch_impulses])\n",
    "        pred_class = F.softmax(pred_class,dim=-1).squeeze()\n",
    "#         class_acc = model_lib.class_acc(pred_class,batch_one_hot)\n",
    "#         mask_acc = model_lib.mask_acc(pred_masks,batch_gt_responses)\n",
    "        maxs, indices = torch.topk(pred_class,5,-1)\n",
    "        pred_mask = pred_masks[1].squeeze()\n",
    "        pred_mask = F.sigmoid(pred_mask)\n",
    "#         pred_mask = F.threshold(pred_mask,0.7,0)\n",
    "#         pred_mask = (pred_mask>0).float()\n",
    "        pred_mask = pred_mask.squeeze().cpu().numpy()*255\n",
    "        Image.fromarray(pred_mask.astype(np.uint8),\"L\").convert(\"RGB\").show()\n",
    "        pred_mask = pred_masks[0].squeeze()\n",
    "        pred_mask = F.sigmoid(pred_mask)\n",
    "#         pred_mask = F.threshold(pred_mask,0.5,0)\n",
    "#         pred_mask = (pred_mask>0).float()\n",
    "        pred_mask = pred_mask.squeeze().cpu().numpy()*128\n",
    "        Image.fromarray(pred_mask.astype(np.uint8),\"L\").convert(\"RGB\").show()\n",
    "\n",
    "        for i in range(5):\n",
    "            print(maxs[i],indices[i],config.CLASS_NAMES[int(indices[i])])\n",
    "        input()"
   ]
  },
  {
   "cell_type": "code",
   "execution_count": null,
   "metadata": {},
   "outputs": [],
   "source": [
    "\n"
   ]
  },
  {
   "cell_type": "code",
   "execution_count": null,
   "metadata": {},
   "outputs": [],
   "source": []
  },
  {
   "cell_type": "code",
   "execution_count": null,
   "metadata": {},
   "outputs": [],
   "source": []
  }
 ],
 "metadata": {
  "kernelspec": {
   "display_name": "Python [conda env:re]",
   "language": "python",
   "name": "conda-env-re-py"
  },
  "language_info": {
   "codemirror_mode": {
    "name": "ipython",
    "version": 3
   },
   "file_extension": ".py",
   "mimetype": "text/x-python",
   "name": "python",
   "nbconvert_exporter": "python",
   "pygments_lexer": "ipython3",
   "version": "3.6.5"
  }
 },
 "nbformat": 4,
 "nbformat_minor": 2
}
